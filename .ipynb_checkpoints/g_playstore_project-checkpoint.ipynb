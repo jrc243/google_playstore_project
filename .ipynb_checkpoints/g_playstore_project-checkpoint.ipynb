{
 "cells": [
  {
   "cell_type": "markdown",
   "metadata": {},
   "source": [
    "### <b> Hello, thanks for stopping by! I will be analyzing data in the Google Play Store. I am specifically focusing on which Apps and Categories have the highest number of installs (or downloads) and which Apps, Categories and price points generate the highest revenue. "
   ]
  },
  {
   "cell_type": "code",
   "execution_count": 1,
   "metadata": {},
   "outputs": [],
   "source": [
    "import numpy as np\n",
    "import pandas as pd\n",
    "from matplotlib import pyplot as plt\n",
    "import sqlite3\n",
    "import re\n",
    "import operator\n",
    "from matplotlib.pyplot import figure"
   ]
  },
  {
   "cell_type": "code",
   "execution_count": 2,
   "metadata": {},
   "outputs": [],
   "source": [
    "pd.set_option('display.max_rows', 500)\n",
    "#displays all rows"
   ]
  },
  {
   "cell_type": "code",
   "execution_count": 3,
   "metadata": {},
   "outputs": [],
   "source": [
    "pd.set_option('float_format', '{:f}'.format)\n",
    "#displays whole number"
   ]
  },
  {
   "cell_type": "code",
   "execution_count": 4,
   "metadata": {},
   "outputs": [],
   "source": [
    "df=pd.read_csv(\"googleplaystore.csv\")"
   ]
  },
  {
   "cell_type": "code",
   "execution_count": 5,
   "metadata": {},
   "outputs": [],
   "source": [
    "df.drop_duplicates(subset =\"App\",\n",
    "                     keep = False, inplace = True)"
   ]
  },
  {
   "cell_type": "code",
   "execution_count": 6,
   "metadata": {},
   "outputs": [
    {
     "name": "stdout",
     "output_type": "stream",
     "text": [
      "                                                 App        Category   Rating  \\\n",
      "0     Photo Editor & Candy Camera & Grid & ScrapBook  ART_AND_DESIGN 4.100000   \n",
      "2  U Launcher Lite – FREE Live Cool Themes, Hide ...  ART_AND_DESIGN 4.700000   \n",
      "3                              Sketch - Draw & Paint  ART_AND_DESIGN 4.500000   \n",
      "4              Pixel Draw - Number Art Coloring Book  ART_AND_DESIGN 4.300000   \n",
      "5                         Paper flowers instructions  ART_AND_DESIGN 4.400000   \n",
      "\n",
      "  Reviews  Size     Installs  Type Price Content Rating  \\\n",
      "0     159   19M      10,000+  Free     0       Everyone   \n",
      "2   87510  8.7M   5,000,000+  Free     0       Everyone   \n",
      "3  215644   25M  50,000,000+  Free     0           Teen   \n",
      "4     967  2.8M     100,000+  Free     0       Everyone   \n",
      "5     167  5.6M      50,000+  Free     0       Everyone   \n",
      "\n",
      "                    Genres Last Updated         Current Ver   Android Ver  \n",
      "0             Art & Design     7-Jan-18               1.0.0  4.0.3 and up  \n",
      "2             Art & Design     1-Aug-18               1.2.4  4.0.3 and up  \n",
      "3             Art & Design     8-Jun-18  Varies with device    4.2 and up  \n",
      "4  Art & Design;Creativity    20-Jun-18                 1.1    4.4 and up  \n",
      "5             Art & Design    26-Mar-17                   1    2.3 and up  \n"
     ]
    }
   ],
   "source": [
    "print(df.head())"
   ]
  },
  {
   "cell_type": "code",
   "execution_count": 7,
   "metadata": {},
   "outputs": [
    {
     "name": "stdout",
     "output_type": "stream",
     "text": [
      "<class 'pandas.core.frame.DataFrame'>\n",
      "Int64Index: 8862 entries, 0 to 10840\n",
      "Data columns (total 13 columns):\n",
      " #   Column          Non-Null Count  Dtype  \n",
      "---  ------          --------------  -----  \n",
      " 0   App             8862 non-null   object \n",
      " 1   Category        8862 non-null   object \n",
      " 2   Rating          7408 non-null   float64\n",
      " 3   Reviews         8862 non-null   object \n",
      " 4   Size            8862 non-null   object \n",
      " 5   Installs        8862 non-null   object \n",
      " 6   Type            8861 non-null   object \n",
      " 7   Price           8862 non-null   object \n",
      " 8   Content Rating  8861 non-null   object \n",
      " 9   Genres          8862 non-null   object \n",
      " 10  Last Updated    8862 non-null   object \n",
      " 11  Current Ver     8854 non-null   object \n",
      " 12  Android Ver     8859 non-null   object \n",
      "dtypes: float64(1), object(12)\n",
      "memory usage: 553.9+ KB\n"
     ]
    }
   ],
   "source": [
    "df.info()"
   ]
  },
  {
   "cell_type": "markdown",
   "metadata": {},
   "source": [
    "#### <b> First, let's look at the breakdown of installation counts of all Apps in the Google Play Store."
   ]
  },
  {
   "cell_type": "code",
   "execution_count": 8,
   "metadata": {},
   "outputs": [],
   "source": [
    "connection = sqlite3.connect(\"g_playstore_project.db\")"
   ]
  },
  {
   "cell_type": "code",
   "execution_count": 9,
   "metadata": {},
   "outputs": [],
   "source": [
    "cursor =connection.cursor()"
   ]
  },
  {
   "cell_type": "code",
   "execution_count": 10,
   "metadata": {},
   "outputs": [
    {
     "data": {
      "text/plain": [
       "<sqlite3.Cursor at 0x12214160>"
      ]
     },
     "execution_count": 10,
     "metadata": {},
     "output_type": "execute_result"
    }
   ],
   "source": [
    "cursor.execute(\"select distinct(Installs) from googleplaystore\")"
   ]
  },
  {
   "cell_type": "code",
   "execution_count": 11,
   "metadata": {},
   "outputs": [],
   "source": [
    "Installs=cursor.fetchall()"
   ]
  },
  {
   "cell_type": "code",
   "execution_count": 12,
   "metadata": {},
   "outputs": [
    {
     "data": {
      "text/plain": [
       "[('10,000+',),\n",
       " ('500,000+',),\n",
       " ('5,000,000+',),\n",
       " ('50,000,000+',),\n",
       " ('100,000+',),\n",
       " ('50,000+',),\n",
       " ('1,000,000+',),\n",
       " ('10,000,000+',),\n",
       " ('5,000+',),\n",
       " ('100,000,000+',),\n",
       " ('1,000,000,000+',),\n",
       " ('1,000+',),\n",
       " ('500,000,000+',),\n",
       " ('50+',),\n",
       " ('100+',),\n",
       " ('500+',),\n",
       " ('10+',),\n",
       " ('1+',),\n",
       " ('5+',),\n",
       " ('0+',),\n",
       " ('0',),\n",
       " ('Free',)]"
      ]
     },
     "execution_count": 12,
     "metadata": {},
     "output_type": "execute_result"
    }
   ],
   "source": [
    "Installs"
   ]
  },
  {
   "cell_type": "code",
   "execution_count": 13,
   "metadata": {},
   "outputs": [],
   "source": [
    "install_counts=df.Installs.value_counts(ascending=True)"
   ]
  },
  {
   "cell_type": "code",
   "execution_count": 14,
   "metadata": {},
   "outputs": [
    {
     "data": {
      "text/plain": [
       "0                    1\n",
       "Free                 1\n",
       "1,000,000,000+       2\n",
       "500,000,000+         4\n",
       "0+                  14\n",
       "1+                  67\n",
       "5+                  82\n",
       "100,000,000+        84\n",
       "50,000,000+        147\n",
       "50+                203\n",
       "500+               326\n",
       "10+                384\n",
       "5,000+             461\n",
       "50,000+            461\n",
       "500,000+           472\n",
       "5,000,000+         516\n",
       "100+               701\n",
       "10,000,000+        715\n",
       "1,000+             869\n",
       "10,000+           1009\n",
       "100,000+          1063\n",
       "1,000,000+        1280\n",
       "Name: Installs, dtype: int64"
      ]
     },
     "execution_count": 14,
     "metadata": {},
     "output_type": "execute_result"
    }
   ],
   "source": [
    "install_counts"
   ]
  },
  {
   "cell_type": "code",
   "execution_count": 15,
   "metadata": {},
   "outputs": [
    {
     "data": {
      "text/plain": [
       "<sqlite3.Cursor at 0x12214160>"
      ]
     },
     "execution_count": 15,
     "metadata": {},
     "output_type": "execute_result"
    }
   ],
   "source": [
    "cursor.execute(\"SELECT\\\n",
    "               COUNT(CASE When Installs = '10,000+' then 1 ELSE NULL END) as '10,000',\\\n",
    "               COUNT(CASE When Installs = '500,000+' then 1 ELSE NULL END) as '500,000',\\\n",
    "               COUNT(CASE When Installs = '5,000,000+' then 1 ELSE NULL END) as '5,000,000',\\\n",
    "               COUNT(CASE When Installs = '100,000+' then 1 ELSE NULL END) as '100,000',\\\n",
    "               COUNT(CASE When Installs = '50,000+' then 1 ELSE NULL END) as '50,000',\\\n",
    "               COUNT(CASE When Installs = '1,000,000+' then 1 ELSE NULL END) as '1,000,000',\\\n",
    "               COUNT(CASE When Installs = '10,000,000+' then 1 ELSE NULL END) as '10,000,000',\\\n",
    "               COUNT(CASE When Installs = '5,000+' then 1 ELSE NULL END) as '5,000',\\\n",
    "               COUNT(CASE When Installs = '100,000,000+' then 1 ELSE NULL END) as '100,000,000',\\\n",
    "               COUNT(CASE When Installs = '1,000+' then 1 ELSE NULL END) as '1,000',\\\n",
    "               COUNT(CASE When Installs = '500,000,000+' then 1 ELSE NULL END) as '500,000,000',\\\n",
    "               COUNT(CASE When Installs = '50+' then 1 ELSE NULL END) as '50',\\\n",
    "               COUNT(CASE When Installs = '100+' then 1 ELSE NULL END) as '100',\\\n",
    "               COUNT(CASE When Installs = '500+' then 1 ELSE NULL END) as '500',\\\n",
    "               COUNT(CASE When Installs = '10+' then 1 ELSE NULL END) as '10',\\\n",
    "               COUNT(CASE When Installs = '1+' then 1 ELSE NULL END) as '1',\\\n",
    "               COUNT(CASE When Installs = '5+' then 1 ELSE NULL END) as '5',\\\n",
    "               COUNT(CASE When Installs = '0+' or Installs ='0'or Installs ='Free' then 1 ELSE NULL END) as '0'\\\n",
    "               from googleplaystore\")"
   ]
  },
  {
   "cell_type": "code",
   "execution_count": 16,
   "metadata": {},
   "outputs": [],
   "source": [
    "Install_count=cursor.fetchall()"
   ]
  },
  {
   "cell_type": "code",
   "execution_count": 17,
   "metadata": {},
   "outputs": [
    {
     "data": {
      "text/plain": [
       "[(1054,\n",
       "  539,\n",
       "  752,\n",
       "  1169,\n",
       "  479,\n",
       "  1579,\n",
       "  1252,\n",
       "  477,\n",
       "  409,\n",
       "  907,\n",
       "  72,\n",
       "  205,\n",
       "  719,\n",
       "  330,\n",
       "  386,\n",
       "  67,\n",
       "  82,\n",
       "  16)]"
      ]
     },
     "execution_count": 17,
     "metadata": {},
     "output_type": "execute_result"
    }
   ],
   "source": [
    "Install_count"
   ]
  },
  {
   "cell_type": "markdown",
   "metadata": {},
   "source": [
    "#### We can also look at the distinct genres of Apps."
   ]
  },
  {
   "cell_type": "code",
   "execution_count": 18,
   "metadata": {},
   "outputs": [
    {
     "data": {
      "text/plain": [
       "[('Art & Design',),\n",
       " ('Art & Design;Pretend Play',),\n",
       " ('Art & Design;Creativity',),\n",
       " ('Art & Design;Action & Adventure',),\n",
       " ('Auto & Vehicles',),\n",
       " ('Beauty',),\n",
       " ('Books & Reference',),\n",
       " ('Business',),\n",
       " ('Comics',),\n",
       " ('Comics;Creativity',),\n",
       " ('Communication',),\n",
       " ('Dating',),\n",
       " ('Education;Education',),\n",
       " ('Education',),\n",
       " ('Education;Creativity',),\n",
       " ('Education;Music & Video',),\n",
       " ('Education;Action & Adventure',),\n",
       " ('Education;Pretend Play',),\n",
       " ('Education;Brain Games',),\n",
       " ('Entertainment',),\n",
       " ('Entertainment;Music & Video',),\n",
       " ('Entertainment;Brain Games',),\n",
       " ('Entertainment;Creativity',),\n",
       " ('Events',),\n",
       " ('Finance',),\n",
       " ('Food & Drink',),\n",
       " ('Health & Fitness',),\n",
       " ('House & Home',),\n",
       " ('Libraries & Demo',),\n",
       " ('Lifestyle',),\n",
       " ('Lifestyle;Pretend Play',),\n",
       " ('Adventure;Action & Adventure',),\n",
       " ('Arcade',),\n",
       " ('Casual',),\n",
       " ('Card',),\n",
       " ('Casual;Pretend Play',),\n",
       " ('Action',),\n",
       " ('Strategy',),\n",
       " ('Puzzle',),\n",
       " ('Sports',),\n",
       " ('Music',),\n",
       " ('Word',),\n",
       " ('Racing',),\n",
       " ('Casual;Creativity',),\n",
       " ('Casual;Action & Adventure',),\n",
       " ('Simulation',),\n",
       " ('Adventure',),\n",
       " ('Board',),\n",
       " ('Trivia',),\n",
       " ('Role Playing',),\n",
       " ('Simulation;Education',),\n",
       " ('Action;Action & Adventure',),\n",
       " ('Casual;Brain Games',),\n",
       " ('Simulation;Action & Adventure',),\n",
       " ('Educational;Creativity',),\n",
       " ('Puzzle;Brain Games',),\n",
       " ('Educational;Education',),\n",
       " ('Card;Brain Games',),\n",
       " ('Educational;Brain Games',),\n",
       " ('Educational;Pretend Play',),\n",
       " ('Entertainment;Education',),\n",
       " ('Casual;Education',),\n",
       " ('Music;Music & Video',),\n",
       " ('Racing;Action & Adventure',),\n",
       " ('Arcade;Pretend Play',),\n",
       " ('Role Playing;Action & Adventure',),\n",
       " ('Simulation;Pretend Play',),\n",
       " ('Puzzle;Creativity',),\n",
       " ('Sports;Action & Adventure',),\n",
       " ('Educational;Action & Adventure',),\n",
       " ('Arcade;Action & Adventure',),\n",
       " ('Entertainment;Action & Adventure',),\n",
       " ('Puzzle;Action & Adventure',),\n",
       " ('Strategy;Action & Adventure',),\n",
       " ('Music & Audio;Music & Video',),\n",
       " ('Health & Fitness;Education',),\n",
       " ('Adventure;Education',),\n",
       " ('Board;Brain Games',),\n",
       " ('Board;Action & Adventure',),\n",
       " ('Board;Pretend Play',),\n",
       " ('Casual;Music & Video',),\n",
       " ('Role Playing;Pretend Play',),\n",
       " ('Entertainment;Pretend Play',),\n",
       " ('Video Players & Editors;Creativity',),\n",
       " ('Card;Action & Adventure',),\n",
       " ('Medical',),\n",
       " ('Social',),\n",
       " ('Shopping',),\n",
       " ('Photography',),\n",
       " ('Travel & Local',),\n",
       " ('Travel & Local;Action & Adventure',),\n",
       " ('Tools',),\n",
       " ('Tools;Education',),\n",
       " ('Personalization',),\n",
       " ('Productivity',),\n",
       " ('Parenting',),\n",
       " ('Parenting;Music & Video',),\n",
       " ('Parenting;Education',),\n",
       " ('Parenting;Brain Games',),\n",
       " ('Weather',),\n",
       " ('Video Players & Editors',),\n",
       " ('Video Players & Editors;Music & Video',),\n",
       " ('News & Magazines',),\n",
       " ('Maps & Navigation',),\n",
       " ('Health & Fitness;Action & Adventure',),\n",
       " ('Educational',),\n",
       " ('Casino',),\n",
       " ('Adventure;Brain Games',),\n",
       " ('Trivia;Education',),\n",
       " ('Lifestyle;Education',),\n",
       " ('Books & Reference;Creativity',),\n",
       " ('Books & Reference;Education',),\n",
       " ('Puzzle;Education',),\n",
       " ('Role Playing;Education',),\n",
       " ('Role Playing;Brain Games',),\n",
       " ('Strategy;Education',),\n",
       " ('Racing;Pretend Play',),\n",
       " ('Communication;Creativity',),\n",
       " ('11-Feb-18',),\n",
       " ('Strategy;Creativity',)]"
      ]
     },
     "execution_count": 18,
     "metadata": {},
     "output_type": "execute_result"
    }
   ],
   "source": [
    "cursor.execute(\"Select distinct(Genres) from googleplaystore\")\n",
    "genres=cursor.fetchall()\n",
    "genres"
   ]
  },
  {
   "cell_type": "markdown",
   "metadata": {},
   "source": [
    "#### Time for some clean up. I will remove $ from the Price column and convert to a float and review the price counts."
   ]
  },
  {
   "cell_type": "code",
   "execution_count": 19,
   "metadata": {},
   "outputs": [
    {
     "data": {
      "text/plain": [
       "array(['0', '$3.99 ', '$1.49 ', '$2.99 ', '$7.99 ', '$4.99 ', '$3.49 ',\n",
       "       '$1.99 ', '$5.99 ', '$6.99 ', '$9.99 ', '$7.49 ', '$0.99 ',\n",
       "       '$1.00 ', '$2.49 ', '$10.99 ', '$1.50 ', '$14.99 ', '$15.99 ',\n",
       "       '$74.99 ', '$39.99 ', '$29.99 ', '$4.49 ', '$1.70 ', '$8.99 ',\n",
       "       '$2.00 ', '$3.88 ', '$25.99 ', '$399.99 ', '$17.99 ', '$400.00 ',\n",
       "       '$3.02 ', '$1.76 ', '$4.84 ', '$4.77 ', '$1.61 ', '$2.50 ',\n",
       "       '$19.99 ', '$1.59 ', '$6.49 ', '$1.29 ', '$5.00 ', '$13.99 ',\n",
       "       '$299.99 ', '$379.99 ', '$37.99 ', '$18.99 ', '$389.99 ',\n",
       "       '$19.90 ', '$8.49 ', '$1.75 ', '$11.99 ', '$14.00 ', '$4.85 ',\n",
       "       '$46.99 ', '$5.49 ', '$109.99 ', '$154.99 ', '$3.08 ', '$2.59 ',\n",
       "       '$4.80 ', '$1.96 ', '$19.40 ', '$3.90 ', '$4.59 ', '$15.46 ',\n",
       "       '$10.00 ', '$3.04 ', '$12.99 ', '$4.29 ', '$2.60 ', '$3.28 ',\n",
       "       '$4.60 ', '$28.99 ', '$2.95 ', '$2.90 ', '$1.97 ', '$200.00 ',\n",
       "       '$89.99 ', '$2.56 ', '$30.99 ', '$3.61 ', '$394.99 ', '$1.26 ',\n",
       "       'Everyone', '$16.99 ', '$1.20 ', '$1.04 '], dtype=object)"
      ]
     },
     "execution_count": 19,
     "metadata": {},
     "output_type": "execute_result"
    }
   ],
   "source": [
    "df['Price'].unique()"
   ]
  },
  {
   "cell_type": "code",
   "execution_count": 20,
   "metadata": {},
   "outputs": [],
   "source": [
    "df['Everyone']=df['Installs'].where(df.Price=='Everyone')"
   ]
  },
  {
   "cell_type": "code",
   "execution_count": 21,
   "metadata": {},
   "outputs": [
    {
     "data": {
      "text/plain": [
       "1"
      ]
     },
     "execution_count": 21,
     "metadata": {},
     "output_type": "execute_result"
    }
   ],
   "source": [
    "df['Everyone'].count()\n",
    "# count =1. We will ignore this price point."
   ]
  },
  {
   "cell_type": "code",
   "execution_count": 22,
   "metadata": {},
   "outputs": [],
   "source": [
    "df['Price']=df['Price'].str.lstrip('$')"
   ]
  },
  {
   "cell_type": "code",
   "execution_count": 23,
   "metadata": {},
   "outputs": [],
   "source": [
    "df.replace('Everyone', '0.0', regex=True, inplace=True)"
   ]
  },
  {
   "cell_type": "code",
   "execution_count": 24,
   "metadata": {},
   "outputs": [],
   "source": [
    "df.replace('', '0.0', regex=True, inplace=True)"
   ]
  },
  {
   "cell_type": "code",
   "execution_count": 25,
   "metadata": {},
   "outputs": [],
   "source": [
    "df['Price']=df['Price'].astype(float)"
   ]
  },
  {
   "cell_type": "code",
   "execution_count": 26,
   "metadata": {},
   "outputs": [
    {
     "data": {
      "text/plain": [
       "array([  0.  ,   3.99,   1.49,   2.99,   7.99,   4.99,   3.49,   1.99,\n",
       "         5.99,   6.99,   9.99,   7.49,   0.99,   1.  ,   2.49,  10.99,\n",
       "         1.5 ,  14.99,  15.99,  74.99,  39.99,  29.99,   4.49,   1.7 ,\n",
       "         8.99,   2.  ,   3.88,  25.99, 399.99,  17.99, 400.  ,   3.02,\n",
       "         1.76,   4.84,   4.77,   1.61,   2.5 ,  19.99,   1.59,   6.49,\n",
       "         1.29,   5.  ,  13.99, 299.99, 379.99,  37.99,  18.99, 389.99,\n",
       "        19.9 ,   8.49,   1.75,  11.99,  14.  ,   4.85,  46.99,   5.49,\n",
       "       109.99, 154.99,   3.08,   2.59,   4.8 ,   1.96,  19.4 ,   3.9 ,\n",
       "         4.59,  15.46,  10.  ,   3.04,  12.99,   4.29,   2.6 ,   3.28,\n",
       "         4.6 ,  28.99,   2.95,   2.9 ,   1.97, 200.  ,  89.99,   2.56,\n",
       "        30.99,   3.61, 394.99,   1.26,  16.99,   1.2 ,   1.04])"
      ]
     },
     "execution_count": 26,
     "metadata": {},
     "output_type": "execute_result"
    }
   ],
   "source": [
    "df.Price.unique()"
   ]
  },
  {
   "cell_type": "code",
   "execution_count": 27,
   "metadata": {},
   "outputs": [],
   "source": [
    "price_counts=df.Price.value_counts(ascending=True)"
   ]
  },
  {
   "cell_type": "code",
   "execution_count": 28,
   "metadata": {},
   "outputs": [
    {
     "data": {
      "text/plain": [
       "37.990000        1\n",
       "1.610000         1\n",
       "46.990000        1\n",
       "1.590000         1\n",
       "154.990000       1\n",
       "299.990000       1\n",
       "400.000000       1\n",
       "19.400000        1\n",
       "4.290000         1\n",
       "28.990000        1\n",
       "389.990000       1\n",
       "1.040000         1\n",
       "3.900000         1\n",
       "379.990000       1\n",
       "4.850000         1\n",
       "200.000000       1\n",
       "4.590000         1\n",
       "74.990000        1\n",
       "19.900000        1\n",
       "4.800000         1\n",
       "2.560000         1\n",
       "11.990000        1\n",
       "15.460000        1\n",
       "1.960000         1\n",
       "18.990000        1\n",
       "3.280000         1\n",
       "1.200000         1\n",
       "89.990000        1\n",
       "30.990000        1\n",
       "2.900000         1\n",
       "15.990000        1\n",
       "4.600000         1\n",
       "4.840000         1\n",
       "1.970000         1\n",
       "3.040000         1\n",
       "3.020000         1\n",
       "3.880000         1\n",
       "3.610000         1\n",
       "10.000000        1\n",
       "14.000000        1\n",
       "2.500000         1\n",
       "2.590000         1\n",
       "3.080000         1\n",
       "2.600000         1\n",
       "1.750000         1\n",
       "16.990000        1\n",
       "4.770000         1\n",
       "1.500000         1\n",
       "25.990000        1\n",
       "109.990000       1\n",
       "5.000000         1\n",
       "2.950000         1\n",
       "1.260000         1\n",
       "394.990000       1\n",
       "1.760000         1\n",
       "1.290000         1\n",
       "17.990000        2\n",
       "1.700000         2\n",
       "10.990000        2\n",
       "7.490000         2\n",
       "13.990000        2\n",
       "8.490000         2\n",
       "39.990000        2\n",
       "29.990000        3\n",
       "12.990000        3\n",
       "2.000000         3\n",
       "1.000000         3\n",
       "19.990000        4\n",
       "5.490000         4\n",
       "6.490000         5\n",
       "8.990000         5\n",
       "3.490000         7\n",
       "7.990000         7\n",
       "14.990000        7\n",
       "6.990000         8\n",
       "4.490000         9\n",
       "399.990000      12\n",
       "9.990000        17\n",
       "5.990000        23\n",
       "2.490000        24\n",
       "1.490000        46\n",
       "3.990000        52\n",
       "4.990000        68\n",
       "1.990000        73\n",
       "2.990000       119\n",
       "0.990000       142\n",
       "0.000000      8148\n",
       "Name: Price, dtype: int64"
      ]
     },
     "execution_count": 28,
     "metadata": {},
     "output_type": "execute_result"
    }
   ],
   "source": [
    "price_counts"
   ]
  },
  {
   "cell_type": "code",
   "execution_count": 29,
   "metadata": {},
   "outputs": [],
   "source": [
    "install_counts=df.Installs.value_counts(ascending=True)"
   ]
  },
  {
   "cell_type": "code",
   "execution_count": 30,
   "metadata": {},
   "outputs": [
    {
     "data": {
      "text/plain": [
       "0                    1\n",
       "Free                 1\n",
       "1,000,000,000+       2\n",
       "500,000,000+         4\n",
       "0+                  14\n",
       "1+                  67\n",
       "5+                  82\n",
       "100,000,000+        84\n",
       "50,000,000+        147\n",
       "50+                203\n",
       "500+               326\n",
       "10+                384\n",
       "5,000+             461\n",
       "50,000+            461\n",
       "500,000+           472\n",
       "5,000,000+         516\n",
       "100+               701\n",
       "10,000,000+        715\n",
       "1,000+             869\n",
       "10,000+           1009\n",
       "100,000+          1063\n",
       "1,000,000+        1280\n",
       "Name: Installs, dtype: int64"
      ]
     },
     "execution_count": 30,
     "metadata": {},
     "output_type": "execute_result"
    }
   ],
   "source": [
    "install_counts"
   ]
  },
  {
   "cell_type": "code",
   "execution_count": 31,
   "metadata": {},
   "outputs": [
    {
     "data": {
      "text/plain": [
       "<sqlite3.Cursor at 0x12214160>"
      ]
     },
     "execution_count": 31,
     "metadata": {},
     "output_type": "execute_result"
    }
   ],
   "source": [
    "cursor.execute(\"Select distinct(Price) from googleplaystore\")"
   ]
  },
  {
   "cell_type": "code",
   "execution_count": 32,
   "metadata": {},
   "outputs": [],
   "source": [
    "unique_prices=cursor.fetchall()"
   ]
  },
  {
   "cell_type": "code",
   "execution_count": 33,
   "metadata": {},
   "outputs": [
    {
     "data": {
      "text/plain": [
       "[(0,),\n",
       " ('$4.99',),\n",
       " ('$3.99',),\n",
       " ('$6.99',),\n",
       " ('$1.49',),\n",
       " ('$2.99',),\n",
       " ('$7.99',),\n",
       " ('$5.99',),\n",
       " ('$3.49',),\n",
       " ('$1.99',),\n",
       " ('$9.99',),\n",
       " ('$7.49',),\n",
       " ('$0.99',),\n",
       " ('$9.00',),\n",
       " ('$5.49',),\n",
       " ('$10.00',),\n",
       " ('$24.99',),\n",
       " ('$11.99',),\n",
       " ('$79.99',),\n",
       " ('$16.99',),\n",
       " ('$14.99',),\n",
       " ('$1.00',),\n",
       " ('$29.99',),\n",
       " ('$12.99',),\n",
       " ('$2.49',),\n",
       " ('$10.99',),\n",
       " ('$1.50',),\n",
       " ('$19.99',),\n",
       " ('$15.99',),\n",
       " ('$33.99',),\n",
       " ('$74.99',),\n",
       " ('$39.99',),\n",
       " ('$3.95',),\n",
       " ('$4.49',),\n",
       " ('$1.70',),\n",
       " ('$8.99',),\n",
       " ('$2.00',),\n",
       " ('$3.88',),\n",
       " ('$25.99',),\n",
       " ('$399.99',),\n",
       " ('$17.99',),\n",
       " ('$400.00',),\n",
       " ('$3.02',),\n",
       " ('$1.76',),\n",
       " ('$4.84',),\n",
       " ('$4.77',),\n",
       " ('$1.61',),\n",
       " ('$2.50',),\n",
       " ('$1.59',),\n",
       " ('$6.49',),\n",
       " ('$1.29',),\n",
       " ('$5.00',),\n",
       " ('$13.99',),\n",
       " ('$299.99',),\n",
       " ('$379.99',),\n",
       " ('$37.99',),\n",
       " ('$18.99',),\n",
       " ('$389.99',),\n",
       " ('$19.90',),\n",
       " ('$8.49',),\n",
       " ('$1.75',),\n",
       " ('$14.00',),\n",
       " ('$4.85',),\n",
       " ('$46.99',),\n",
       " ('$109.99',),\n",
       " ('$154.99',),\n",
       " ('$3.08',),\n",
       " ('$2.59',),\n",
       " ('$4.80',),\n",
       " ('$1.96',),\n",
       " ('$19.40',),\n",
       " ('$3.90',),\n",
       " ('$4.59',),\n",
       " ('$15.46',),\n",
       " ('$3.04',),\n",
       " ('$4.29',),\n",
       " ('$2.60',),\n",
       " ('$3.28',),\n",
       " ('$4.60',),\n",
       " ('$28.99',),\n",
       " ('$2.95',),\n",
       " ('$2.90',),\n",
       " ('$1.97',),\n",
       " ('$200.00',),\n",
       " ('$89.99',),\n",
       " ('$2.56',),\n",
       " ('$30.99',),\n",
       " ('$3.61',),\n",
       " ('$394.99',),\n",
       " ('$1.26',),\n",
       " ('Everyone',),\n",
       " ('$1.20',),\n",
       " ('$1.04',)]"
      ]
     },
     "execution_count": 33,
     "metadata": {},
     "output_type": "execute_result"
    }
   ],
   "source": [
    "unique_prices"
   ]
  },
  {
   "cell_type": "markdown",
   "metadata": {},
   "source": [
    "#### <b> Let's look at the relationship between the installs and price columns. First, I will do some data cleaning. I will remove the + from the Installs column and convert 'Free' to '0'. I will also convert the Installs column type from object to float."
   ]
  },
  {
   "cell_type": "code",
   "execution_count": 34,
   "metadata": {},
   "outputs": [],
   "source": [
    "df['Installs']=df['Installs'].str.rstrip('+')"
   ]
  },
  {
   "cell_type": "code",
   "execution_count": 35,
   "metadata": {},
   "outputs": [],
   "source": [
    "df.replace(',','', regex=True, inplace=True)"
   ]
  },
  {
   "cell_type": "code",
   "execution_count": 36,
   "metadata": {},
   "outputs": [],
   "source": [
    "df['Installs'].replace('Free','0.0', regex=True, inplace=True)"
   ]
  },
  {
   "cell_type": "code",
   "execution_count": 37,
   "metadata": {},
   "outputs": [
    {
     "data": {
      "text/plain": [
       "array(['10000', '5000000', '50000000', '100000', '50000', '1000000',\n",
       "       '10000000', '5000', '500000', '1000000000', '1000', '100000000',\n",
       "       '50', '100', '500', '10', '1', '5', '500000000', '0', '0.0'],\n",
       "      dtype=object)"
      ]
     },
     "execution_count": 37,
     "metadata": {},
     "output_type": "execute_result"
    }
   ],
   "source": [
    "df['Installs'].unique()"
   ]
  },
  {
   "cell_type": "code",
   "execution_count": 38,
   "metadata": {},
   "outputs": [
    {
     "name": "stdout",
     "output_type": "stream",
     "text": [
      "<class 'pandas.core.frame.DataFrame'>\n",
      "Int64Index: 8862 entries, 0 to 10840\n",
      "Data columns (total 14 columns):\n",
      " #   Column          Non-Null Count  Dtype  \n",
      "---  ------          --------------  -----  \n",
      " 0   App             8862 non-null   object \n",
      " 1   Category        8862 non-null   object \n",
      " 2   Rating          7408 non-null   float64\n",
      " 3   Reviews         8862 non-null   object \n",
      " 4   Size            8862 non-null   object \n",
      " 5   Installs        8862 non-null   object \n",
      " 6   Type            8861 non-null   object \n",
      " 7   Price           8862 non-null   float64\n",
      " 8   Content Rating  8861 non-null   object \n",
      " 9   Genres          8862 non-null   object \n",
      " 10  Last Updated    8862 non-null   object \n",
      " 11  Current Ver     8854 non-null   object \n",
      " 12  Android Ver     8859 non-null   object \n",
      " 13  Everyone        1 non-null      object \n",
      "dtypes: float64(2), object(12)\n",
      "memory usage: 623.1+ KB\n"
     ]
    }
   ],
   "source": [
    "df.info()\n",
    "#verifies that Installs is now a column with a float data type."
   ]
  },
  {
   "cell_type": "code",
   "execution_count": 39,
   "metadata": {},
   "outputs": [],
   "source": [
    "df['Installs'] = df['Installs'].astype(float)\n",
    "#convert Installs column from string to float"
   ]
  },
  {
   "cell_type": "code",
   "execution_count": 40,
   "metadata": {},
   "outputs": [
    {
     "name": "stdout",
     "output_type": "stream",
     "text": [
      "App                object\n",
      "Category           object\n",
      "Rating            float64\n",
      "Reviews            object\n",
      "Size               object\n",
      "Installs          float64\n",
      "Type               object\n",
      "Price             float64\n",
      "Content Rating     object\n",
      "Genres             object\n",
      "Last Updated       object\n",
      "Current Ver        object\n",
      "Android Ver        object\n",
      "Everyone           object\n",
      "dtype: object\n"
     ]
    }
   ],
   "source": [
    "print(df.dtypes)"
   ]
  },
  {
   "cell_type": "markdown",
   "metadata": {},
   "source": [
    "#### <b> I will examine the installs and price columns further by looking at installs at each App price point."
   ]
  },
  {
   "cell_type": "code",
   "execution_count": 41,
   "metadata": {},
   "outputs": [
    {
     "data": {
      "text/plain": [
       "3513751.0231324756"
      ]
     },
     "execution_count": 41,
     "metadata": {},
     "output_type": "execute_result"
    }
   ],
   "source": [
    "np.mean(df['Installs'])"
   ]
  },
  {
   "cell_type": "code",
   "execution_count": 42,
   "metadata": {},
   "outputs": [
    {
     "data": {
      "text/plain": [
       "array([1.e+04, 5.e+06, 5.e+07, 1.e+05, 5.e+04, 1.e+06, 1.e+07, 5.e+03,\n",
       "       5.e+05, 1.e+09, 1.e+03, 1.e+08, 5.e+01, 1.e+02, 5.e+02, 1.e+01,\n",
       "       1.e+00, 5.e+00, 5.e+08, 0.e+00])"
      ]
     },
     "execution_count": 42,
     "metadata": {},
     "output_type": "execute_result"
    }
   ],
   "source": [
    "df['Installs'].unique()"
   ]
  },
  {
   "cell_type": "code",
   "execution_count": 43,
   "metadata": {},
   "outputs": [
    {
     "data": {
      "text/plain": [
       "array([  0.  ,   3.99,   1.49,   2.99,   7.99,   4.99,   3.49,   1.99,\n",
       "         5.99,   6.99,   9.99,   7.49,   0.99,   1.  ,   2.49,  10.99,\n",
       "         1.5 ,  14.99,  15.99,  74.99,  39.99,  29.99,   4.49,   1.7 ,\n",
       "         8.99,   2.  ,   3.88,  25.99, 399.99,  17.99, 400.  ,   3.02,\n",
       "         1.76,   4.84,   4.77,   1.61,   2.5 ,  19.99,   1.59,   6.49,\n",
       "         1.29,   5.  ,  13.99, 299.99, 379.99,  37.99,  18.99, 389.99,\n",
       "        19.9 ,   8.49,   1.75,  11.99,  14.  ,   4.85,  46.99,   5.49,\n",
       "       109.99, 154.99,   3.08,   2.59,   4.8 ,   1.96,  19.4 ,   3.9 ,\n",
       "         4.59,  15.46,  10.  ,   3.04,  12.99,   4.29,   2.6 ,   3.28,\n",
       "         4.6 ,  28.99,   2.95,   2.9 ,   1.97, 200.  ,  89.99,   2.56,\n",
       "        30.99,   3.61, 394.99,   1.26,  16.99,   1.2 ,   1.04])"
      ]
     },
     "execution_count": 43,
     "metadata": {},
     "output_type": "execute_result"
    }
   ],
   "source": [
    "df['Price'].unique()"
   ]
  },
  {
   "cell_type": "code",
   "execution_count": 44,
   "metadata": {},
   "outputs": [
    {
     "data": {
      "text/plain": [
       "array([  0.  ,   0.99,   1.  ,   1.04,   1.2 ,   1.26,   1.29,   1.49,\n",
       "         1.5 ,   1.59,   1.61,   1.7 ,   1.75,   1.76,   1.96,   1.97,\n",
       "         1.99,   2.  ,   2.49,   2.5 ,   2.56,   2.59,   2.6 ,   2.9 ,\n",
       "         2.95,   2.99,   3.02,   3.04,   3.08,   3.28,   3.49,   3.61,\n",
       "         3.88,   3.9 ,   3.99,   4.29,   4.49,   4.59,   4.6 ,   4.77,\n",
       "         4.8 ,   4.84,   4.85,   4.99,   5.  ,   5.49,   5.99,   6.49,\n",
       "         6.99,   7.49,   7.99,   8.49,   8.99,   9.99,  10.  ,  10.99,\n",
       "        11.99,  12.99,  13.99,  14.  ,  14.99,  15.46,  15.99,  16.99,\n",
       "        17.99,  18.99,  19.4 ,  19.9 ,  19.99,  25.99,  28.99,  29.99,\n",
       "        30.99,  37.99,  39.99,  46.99,  74.99,  89.99, 109.99, 154.99,\n",
       "       200.  , 299.99, 379.99, 389.99, 394.99, 399.99, 400.  ])"
      ]
     },
     "execution_count": 44,
     "metadata": {},
     "output_type": "execute_result"
    }
   ],
   "source": [
    "np.sort(df.Price.unique())"
   ]
  },
  {
   "cell_type": "code",
   "execution_count": 45,
   "metadata": {},
   "outputs": [],
   "source": [
    "df['Installs_099']=df['Installs'].where(df.Price==0.99)"
   ]
  },
  {
   "cell_type": "code",
   "execution_count": 46,
   "metadata": {},
   "outputs": [],
   "source": [
    "df['Installs_199']=df['Installs'].where(df.Price==1.99)"
   ]
  },
  {
   "cell_type": "code",
   "execution_count": 47,
   "metadata": {},
   "outputs": [],
   "source": [
    "df['Installs_299']=df['Installs'].where(df.Price==2.99)"
   ]
  },
  {
   "cell_type": "code",
   "execution_count": 48,
   "metadata": {},
   "outputs": [],
   "source": [
    "df['Installs_399']=df['Installs'].where(df.Price==3.99)"
   ]
  },
  {
   "cell_type": "code",
   "execution_count": 49,
   "metadata": {},
   "outputs": [],
   "source": [
    "df['Installs_499']=df['Installs'].where(df.Price==4.99)"
   ]
  },
  {
   "cell_type": "code",
   "execution_count": 50,
   "metadata": {},
   "outputs": [],
   "source": [
    "df['Installs_599']=df['Installs'].where(df.Price==5.99)"
   ]
  },
  {
   "cell_type": "code",
   "execution_count": 51,
   "metadata": {},
   "outputs": [],
   "source": [
    "df['Installs_699']=df['Installs'].where(df.Price==6.99)"
   ]
  },
  {
   "cell_type": "code",
   "execution_count": 52,
   "metadata": {},
   "outputs": [],
   "source": [
    "df['Installs_799']=df['Installs'].where(df.Price==7.99)"
   ]
  },
  {
   "cell_type": "code",
   "execution_count": 53,
   "metadata": {},
   "outputs": [],
   "source": [
    "df['Installs_899']=df['Installs'].where(df.Price==8.99)"
   ]
  },
  {
   "cell_type": "code",
   "execution_count": 54,
   "metadata": {},
   "outputs": [],
   "source": [
    "df['Installs_999']=df['Installs'].where(df.Price==9.99)"
   ]
  },
  {
   "cell_type": "code",
   "execution_count": 55,
   "metadata": {},
   "outputs": [],
   "source": [
    "df['Installs_1099']=df['Installs'].where(df.Price==10.99)"
   ]
  },
  {
   "cell_type": "code",
   "execution_count": 56,
   "metadata": {},
   "outputs": [],
   "source": [
    "df['Installs_1199']=df['Installs'].where(df.Price==11.99)"
   ]
  },
  {
   "cell_type": "code",
   "execution_count": 57,
   "metadata": {},
   "outputs": [],
   "source": [
    "df['Installs_1299']=df['Installs'].where(df.Price==12.99)"
   ]
  },
  {
   "cell_type": "code",
   "execution_count": 58,
   "metadata": {},
   "outputs": [],
   "source": [
    "df['Installs_1399']=df['Installs'].where(df.Price==13.99)"
   ]
  },
  {
   "cell_type": "code",
   "execution_count": 59,
   "metadata": {},
   "outputs": [],
   "source": [
    "df['Installs_1499']=df['Installs'].where(df.Price==14.99)"
   ]
  },
  {
   "cell_type": "code",
   "execution_count": 60,
   "metadata": {},
   "outputs": [],
   "source": [
    "df['Installs_1599']=df['Installs'].where(df.Price==15.99)"
   ]
  },
  {
   "cell_type": "code",
   "execution_count": 61,
   "metadata": {},
   "outputs": [],
   "source": [
    "df['Installs_1699']=df['Installs'].where(df.Price==16.99)"
   ]
  },
  {
   "cell_type": "code",
   "execution_count": 62,
   "metadata": {},
   "outputs": [],
   "source": [
    "df['Installs_1799']=df['Installs'].where(df.Price==17.99)"
   ]
  },
  {
   "cell_type": "code",
   "execution_count": 63,
   "metadata": {},
   "outputs": [],
   "source": [
    "df['Installs_1899']=df['Installs'].where(df.Price==18.99)"
   ]
  },
  {
   "cell_type": "code",
   "execution_count": 64,
   "metadata": {},
   "outputs": [],
   "source": [
    "df['Installs_1999']=df['Installs'].where(df.Price==19.99)"
   ]
  },
  {
   "cell_type": "markdown",
   "metadata": {},
   "source": [
    "#### <b> Next I will calculate a column and visualization for the total dollar value generated from installs at each price point."
   ]
  },
  {
   "cell_type": "code",
   "execution_count": 65,
   "metadata": {},
   "outputs": [],
   "source": [
    "installs_099_value=np.sum(df['Installs_099'] *0.99)"
   ]
  },
  {
   "cell_type": "code",
   "execution_count": 66,
   "metadata": {},
   "outputs": [],
   "source": [
    "installs_199_value=np.sum(df['Installs_199'] *1.99)"
   ]
  },
  {
   "cell_type": "code",
   "execution_count": 67,
   "metadata": {},
   "outputs": [],
   "source": [
    "installs_299_value=np.sum(df['Installs_299'] *2.99)"
   ]
  },
  {
   "cell_type": "code",
   "execution_count": 68,
   "metadata": {},
   "outputs": [],
   "source": [
    "installs_399_value=np.sum(df['Installs_399'] *3.99)"
   ]
  },
  {
   "cell_type": "code",
   "execution_count": 69,
   "metadata": {},
   "outputs": [],
   "source": [
    "installs_499_value=np.sum(df['Installs_499'] *4.99)"
   ]
  },
  {
   "cell_type": "code",
   "execution_count": 70,
   "metadata": {},
   "outputs": [],
   "source": [
    "installs_599_value=np.sum(df['Installs_599'] *5.99)"
   ]
  },
  {
   "cell_type": "code",
   "execution_count": 71,
   "metadata": {},
   "outputs": [],
   "source": [
    "installs_699_value=np.sum(df['Installs_699'] *6.99)"
   ]
  },
  {
   "cell_type": "code",
   "execution_count": 72,
   "metadata": {},
   "outputs": [],
   "source": [
    "installs_799_value=np.sum(df['Installs_799'] *7.99)"
   ]
  },
  {
   "cell_type": "code",
   "execution_count": 73,
   "metadata": {},
   "outputs": [],
   "source": [
    "installs_899_value=np.sum(df['Installs_899'] *8.99)"
   ]
  },
  {
   "cell_type": "code",
   "execution_count": 74,
   "metadata": {},
   "outputs": [],
   "source": [
    "installs_999_value=np.sum(df['Installs_999'] *9.99)"
   ]
  },
  {
   "cell_type": "code",
   "execution_count": 75,
   "metadata": {},
   "outputs": [],
   "source": [
    "installs_1099_value=np.sum(df['Installs_1099'] *10.99)"
   ]
  },
  {
   "cell_type": "code",
   "execution_count": 76,
   "metadata": {},
   "outputs": [],
   "source": [
    "installs_1199_value=np.sum(df['Installs_1199'] *11.99)"
   ]
  },
  {
   "cell_type": "code",
   "execution_count": 77,
   "metadata": {},
   "outputs": [],
   "source": [
    "installs_1299_value=np.sum(df['Installs_1299'] *12.99)"
   ]
  },
  {
   "cell_type": "code",
   "execution_count": 78,
   "metadata": {},
   "outputs": [],
   "source": [
    "installs_1399_value=np.sum(df['Installs_1399'] *13.99)"
   ]
  },
  {
   "cell_type": "code",
   "execution_count": 79,
   "metadata": {},
   "outputs": [],
   "source": [
    "installs_1499_value=np.sum(df['Installs_1499'] *14.99)"
   ]
  },
  {
   "cell_type": "code",
   "execution_count": 80,
   "metadata": {},
   "outputs": [],
   "source": [
    "installs_1599_value=np.sum(df['Installs_1599'] *15.99)"
   ]
  },
  {
   "cell_type": "code",
   "execution_count": 81,
   "metadata": {},
   "outputs": [],
   "source": [
    "installs_1699_value=np.sum(df['Installs_1699'] *16.99)"
   ]
  },
  {
   "cell_type": "code",
   "execution_count": 82,
   "metadata": {},
   "outputs": [],
   "source": [
    "installs_1799_value=np.sum(df['Installs_1799'] *17.99)"
   ]
  },
  {
   "cell_type": "code",
   "execution_count": 83,
   "metadata": {},
   "outputs": [],
   "source": [
    "installs_1899_value=np.sum(df['Installs_1899'] *18.99)"
   ]
  },
  {
   "cell_type": "code",
   "execution_count": 84,
   "metadata": {},
   "outputs": [],
   "source": [
    "installs_1999_value=np.sum(df['Installs_1999'] *19.99)"
   ]
  },
  {
   "cell_type": "code",
   "execution_count": 85,
   "metadata": {},
   "outputs": [
    {
     "data": {
      "text/plain": [
       "18192609.27"
      ]
     },
     "execution_count": 85,
     "metadata": {},
     "output_type": "execute_result"
    }
   ],
   "source": [
    "installs_099_value"
   ]
  },
  {
   "cell_type": "code",
   "execution_count": 86,
   "metadata": {},
   "outputs": [
    {
     "data": {
      "text/plain": [
       "7962250.69"
      ]
     },
     "execution_count": 86,
     "metadata": {},
     "output_type": "execute_result"
    }
   ],
   "source": [
    "installs_199_value"
   ]
  },
  {
   "cell_type": "code",
   "execution_count": 87,
   "metadata": {},
   "outputs": [
    {
     "data": {
      "text/plain": [
       "29807375.78"
      ]
     },
     "execution_count": 87,
     "metadata": {},
     "output_type": "execute_result"
    }
   ],
   "source": [
    "installs_299_value"
   ]
  },
  {
   "cell_type": "code",
   "execution_count": 88,
   "metadata": {},
   "outputs": [
    {
     "data": {
      "text/plain": [
       "4106711.49"
      ]
     },
     "execution_count": 88,
     "metadata": {},
     "output_type": "execute_result"
    }
   ],
   "source": [
    "installs_399_value"
   ]
  },
  {
   "cell_type": "code",
   "execution_count": 89,
   "metadata": {},
   "outputs": [
    {
     "data": {
      "text/plain": [
       "16141053.2"
      ]
     },
     "execution_count": 89,
     "metadata": {},
     "output_type": "execute_result"
    }
   ],
   "source": [
    "installs_499_value"
   ]
  },
  {
   "cell_type": "code",
   "execution_count": 90,
   "metadata": {},
   "outputs": [
    {
     "data": {
      "text/plain": [
       "10589792.88"
      ]
     },
     "execution_count": 90,
     "metadata": {},
     "output_type": "execute_result"
    }
   ],
   "source": [
    "installs_599_value"
   ]
  },
  {
   "cell_type": "code",
   "execution_count": 91,
   "metadata": {},
   "outputs": [
    {
     "data": {
      "text/plain": [
       "7843479.0"
      ]
     },
     "execution_count": 91,
     "metadata": {},
     "output_type": "execute_result"
    }
   ],
   "source": [
    "installs_699_value"
   ]
  },
  {
   "cell_type": "code",
   "execution_count": 92,
   "metadata": {},
   "outputs": [
    {
     "data": {
      "text/plain": [
       "1055479.0"
      ]
     },
     "execution_count": 92,
     "metadata": {},
     "output_type": "execute_result"
    }
   ],
   "source": [
    "installs_799_value"
   ]
  },
  {
   "cell_type": "code",
   "execution_count": 93,
   "metadata": {},
   "outputs": [
    {
     "data": {
      "text/plain": [
       "1802989.45"
      ]
     },
     "execution_count": 93,
     "metadata": {},
     "output_type": "execute_result"
    }
   ],
   "source": [
    "installs_899_value"
   ]
  },
  {
   "cell_type": "code",
   "execution_count": 94,
   "metadata": {},
   "outputs": [
    {
     "data": {
      "text/plain": [
       "4731264.0"
      ]
     },
     "execution_count": 94,
     "metadata": {},
     "output_type": "execute_result"
    }
   ],
   "source": [
    "installs_999_value"
   ]
  },
  {
   "cell_type": "code",
   "execution_count": 95,
   "metadata": {},
   "outputs": [
    {
     "data": {
      "text/plain": [
       "21980.0"
      ]
     },
     "execution_count": 95,
     "metadata": {},
     "output_type": "execute_result"
    }
   ],
   "source": [
    "installs_1099_value"
   ]
  },
  {
   "cell_type": "code",
   "execution_count": 96,
   "metadata": {},
   "outputs": [
    {
     "data": {
      "text/plain": [
       "1199000.0"
      ]
     },
     "execution_count": 96,
     "metadata": {},
     "output_type": "execute_result"
    }
   ],
   "source": [
    "installs_1199_value"
   ]
  },
  {
   "cell_type": "code",
   "execution_count": 97,
   "metadata": {},
   "outputs": [
    {
     "data": {
      "text/plain": [
       "132498.0"
      ]
     },
     "execution_count": 97,
     "metadata": {},
     "output_type": "execute_result"
    }
   ],
   "source": [
    "installs_1299_value"
   ]
  },
  {
   "cell_type": "code",
   "execution_count": 98,
   "metadata": {},
   "outputs": [
    {
     "data": {
      "text/plain": [
       "1399000.0"
      ]
     },
     "execution_count": 98,
     "metadata": {},
     "output_type": "execute_result"
    }
   ],
   "source": [
    "installs_1399_value"
   ]
  },
  {
   "cell_type": "code",
   "execution_count": 99,
   "metadata": {},
   "outputs": [
    {
     "data": {
      "text/plain": [
       "1889639.4"
      ]
     },
     "execution_count": 99,
     "metadata": {},
     "output_type": "execute_result"
    }
   ],
   "source": [
    "installs_1499_value"
   ]
  },
  {
   "cell_type": "code",
   "execution_count": 100,
   "metadata": {},
   "outputs": [
    {
     "data": {
      "text/plain": [
       "7995.0"
      ]
     },
     "execution_count": 100,
     "metadata": {},
     "output_type": "execute_result"
    }
   ],
   "source": [
    "installs_1599_value"
   ]
  },
  {
   "cell_type": "code",
   "execution_count": 101,
   "metadata": {},
   "outputs": [
    {
     "data": {
      "text/plain": [
       "169899.99999999997"
      ]
     },
     "execution_count": 101,
     "metadata": {},
     "output_type": "execute_result"
    }
   ],
   "source": [
    "installs_1699_value"
   ]
  },
  {
   "cell_type": "code",
   "execution_count": 102,
   "metadata": {},
   "outputs": [
    {
     "data": {
      "text/plain": [
       "188894.99999999997"
      ]
     },
     "execution_count": 102,
     "metadata": {},
     "output_type": "execute_result"
    }
   ],
   "source": [
    "installs_1799_value"
   ]
  },
  {
   "cell_type": "code",
   "execution_count": 103,
   "metadata": {},
   "outputs": [
    {
     "data": {
      "text/plain": [
       "189899.99999999997"
      ]
     },
     "execution_count": 103,
     "metadata": {},
     "output_type": "execute_result"
    }
   ],
   "source": [
    "installs_1899_value"
   ]
  },
  {
   "cell_type": "code",
   "execution_count": 104,
   "metadata": {},
   "outputs": [
    {
     "data": {
      "text/plain": [
       "1019889.7999999999"
      ]
     },
     "execution_count": 104,
     "metadata": {},
     "output_type": "execute_result"
    }
   ],
   "source": [
    "installs_1999_value"
   ]
  },
  {
   "cell_type": "code",
   "execution_count": 105,
   "metadata": {},
   "outputs": [],
   "source": [
    "dict= {\"0.99\": 18192609.27, \"1.99\": 7962250.69, \"2.99\": 29807375.78,  \"3.99\": 4106711.49, \"4.99\": 16141053.2, \"5.99\": 10589792.88, \"6.99\": 7843479.0, \"7.99\": 1055479.0, \"8.99\": 1802989.45, \"9.99\": 4731264.0, \"10.99\": 21980.0, \"11.99\": 1199000.0, \"12.99\": 132498.0, \"13.99\": 1399000.0, \"14.99\": 1889639.4, \"15.99\": 7995.0, \"16.99\": 169899.99999999997, \"17.99\": 188894.99999999997, \"18.99\": 189899.99999999997, \"19.99\": 1019889.7999999999}"
   ]
  },
  {
   "cell_type": "code",
   "execution_count": 106,
   "metadata": {},
   "outputs": [],
   "source": [
    "#dict= {\"$0.99\": 20194389.27, \"$1.99\": 7962250.6899999995, \"2.99\": 31128955.779999997, \"$3.99\": 8934611.49, \"4.99\": 18137053.200000003, \"$5.99\": 28631672.88, \"$6.99\": 147790269.0, \"$7.99\": 1055479.0, \"$8.99\": 1802989.45, \"$9.99\": 4951044.0, \"$10.99\": 21980.0, \"$11.99\": 2637800.0, \"$12.99\": 135096.0, \"$13.99\": 1399000.0, \"$14.99\": 2069519.4, \"$15.99\": 7995.0, \"$16.99\": 203879.99999999997, \"$17.99\": 188894.99999999997, \"$18.99\": \n",
    "#189899.99999999997, \"$19.99\": 1059869.7999999998} "
   ]
  },
  {
   "cell_type": "code",
   "execution_count": 107,
   "metadata": {},
   "outputs": [],
   "source": [
    "sorted_dict = sorted(dict.items(), key=operator.itemgetter(1))"
   ]
  },
  {
   "cell_type": "code",
   "execution_count": 108,
   "metadata": {},
   "outputs": [
    {
     "data": {
      "text/plain": [
       "[('15.99', 7995.0),\n",
       " ('10.99', 21980.0),\n",
       " ('12.99', 132498.0),\n",
       " ('16.99', 169899.99999999997),\n",
       " ('17.99', 188894.99999999997),\n",
       " ('18.99', 189899.99999999997),\n",
       " ('19.99', 1019889.7999999999),\n",
       " ('7.99', 1055479.0),\n",
       " ('11.99', 1199000.0),\n",
       " ('13.99', 1399000.0),\n",
       " ('8.99', 1802989.45),\n",
       " ('14.99', 1889639.4),\n",
       " ('3.99', 4106711.49),\n",
       " ('9.99', 4731264.0),\n",
       " ('6.99', 7843479.0),\n",
       " ('1.99', 7962250.69),\n",
       " ('5.99', 10589792.88),\n",
       " ('4.99', 16141053.2),\n",
       " ('0.99', 18192609.27),\n",
       " ('2.99', 29807375.78)]"
      ]
     },
     "execution_count": 108,
     "metadata": {},
     "output_type": "execute_result"
    }
   ],
   "source": [
    "sorted_dict"
   ]
  },
  {
   "cell_type": "code",
   "execution_count": 109,
   "metadata": {},
   "outputs": [],
   "source": [
    "keys=dict.keys()"
   ]
  },
  {
   "cell_type": "code",
   "execution_count": 110,
   "metadata": {},
   "outputs": [],
   "source": [
    "values=dict.values()"
   ]
  },
  {
   "cell_type": "code",
   "execution_count": 111,
   "metadata": {},
   "outputs": [
    {
     "data": {
      "text/plain": [
       "dict_keys(['0.99', '1.99', '2.99', '3.99', '4.99', '5.99', '6.99', '7.99', '8.99', '9.99', '10.99', '11.99', '12.99', '13.99', '14.99', '15.99', '16.99', '17.99', '18.99', '19.99'])"
      ]
     },
     "execution_count": 111,
     "metadata": {},
     "output_type": "execute_result"
    }
   ],
   "source": [
    "keys"
   ]
  },
  {
   "cell_type": "code",
   "execution_count": 112,
   "metadata": {},
   "outputs": [
    {
     "data": {
      "text/plain": [
       "dict_values([18192609.27, 7962250.69, 29807375.78, 4106711.49, 16141053.2, 10589792.88, 7843479.0, 1055479.0, 1802989.45, 4731264.0, 21980.0, 1199000.0, 132498.0, 1399000.0, 1889639.4, 7995.0, 169899.99999999997, 188894.99999999997, 189899.99999999997, 1019889.7999999999])"
      ]
     },
     "execution_count": 112,
     "metadata": {},
     "output_type": "execute_result"
    }
   ],
   "source": [
    "values"
   ]
  },
  {
   "cell_type": "code",
   "execution_count": 113,
   "metadata": {},
   "outputs": [
    {
     "data": {
      "text/plain": [
       "<Figure size 432x288 with 0 Axes>"
      ]
     },
     "metadata": {},
     "output_type": "display_data"
    },
    {
     "data": {
      "image/png": "[encoded data removed]",
      "text/plain": [
       "<Figure size 800x480 with 1 Axes>"
      ]
     },
     "metadata": {
      "needs_background": "light"
     },
     "output_type": "display_data"
    }
   ],
   "source": [
    "plt.clf()\n",
    "\n",
    "pos=[2,4,6,8,10,12,14,16,18,20,22,24,26,28,30,32,34,36,38,40]\n",
    "install_vals=[18192609.27, 7962250.69, 29807375.78, 4106711.49, 16141053.2, 10589792.88, 7843479.0, 1055479.0, 1802989.45, 4731264.0, 21980.0, 1199000.0, 132498.0, 1399000.0, 1889639.4, 7995.0, 169899.99999999997, 188894.99999999997, 189899.99999999997, 1019889.7999999999]\n",
    "bars=['$0.99', '$1.99', '$2.99', '$3.99', '$4.99', '$5.99', '$6.99', '$7.99', '$8.99', '$9.99', '$10.99', '$11.99', '$12.99', '$13.99', '$14.99', '$15.99', '$16.99', '$17.99', '$18.99', '$19.99']\n",
    "\n",
    "\n",
    "figure(figsize=(10, 6), dpi=80)\n",
    "\n",
    "\n",
    "plt.bar(pos, install_vals)\n",
    "\n",
    "plt.xticks(pos, bars, rotation=90, fontsize=10)\n",
    "plt.yticks([0, 5000000, 10000000, 15000000, 20000000, 25000000, 30000000],[\"$0.0\", \"$5,000,000\", \"$10,000,000\", \"$15,000,000\", \"$20,000,000\", \"$25,000,000\", \"$30,000,000\"], rotation =45)\n",
    "#plt.ylabel( \"Dollar Value of Install at each price point from 0 to $30 million\")\n",
    "plt.title(\"Total Revenue (all apps) for each app price point\")\n",
    "\n",
    "scale_factor = 1\n",
    "\n",
    "xmin, xmax = plt.xlim()\n",
    "ymin, ymax = plt.ylim()\n",
    "\n",
    "plt.xlim(xmin * scale_factor, xmax * scale_factor)\n",
    "plt.ylim(ymin * scale_factor, ymax * scale_factor)\n",
    "plt.savefig(\"total_revenue_all_apps.jpg\")"
   ]
  },
  {
   "cell_type": "markdown",
   "metadata": {},
   "source": [
    "#### <b> We can see that the $2.99 price point is generating the highest revenue. Let's now look at the number of apps at each price point."
   ]
  },
  {
   "cell_type": "code",
   "execution_count": 114,
   "metadata": {},
   "outputs": [
    {
     "data": {
      "text/plain": [
       "0.000000      8148\n",
       "0.990000       142\n",
       "2.990000       119\n",
       "1.990000        73\n",
       "4.990000        68\n",
       "3.990000        52\n",
       "1.490000        46\n",
       "2.490000        24\n",
       "5.990000        23\n",
       "9.990000        17\n",
       "399.990000      12\n",
       "4.490000         9\n",
       "6.990000         8\n",
       "14.990000        7\n",
       "7.990000         7\n",
       "3.490000         7\n",
       "8.990000         5\n",
       "6.490000         5\n",
       "5.490000         4\n",
       "19.990000        4\n",
       "1.000000         3\n",
       "2.000000         3\n",
       "12.990000        3\n",
       "29.990000        3\n",
       "39.990000        2\n",
       "8.490000         2\n",
       "13.990000        2\n",
       "7.490000         2\n",
       "10.990000        2\n",
       "1.700000         2\n",
       "17.990000        2\n",
       "1.290000         1\n",
       "1.760000         1\n",
       "394.990000       1\n",
       "1.260000         1\n",
       "2.950000         1\n",
       "5.000000         1\n",
       "109.990000       1\n",
       "25.990000        1\n",
       "1.500000         1\n",
       "4.770000         1\n",
       "16.990000        1\n",
       "1.750000         1\n",
       "2.600000         1\n",
       "3.080000         1\n",
       "2.590000         1\n",
       "2.500000         1\n",
       "14.000000        1\n",
       "10.000000        1\n",
       "3.610000         1\n",
       "3.880000         1\n",
       "3.020000         1\n",
       "3.040000         1\n",
       "1.970000         1\n",
       "4.840000         1\n",
       "4.600000         1\n",
       "15.990000        1\n",
       "2.900000         1\n",
       "30.990000        1\n",
       "89.990000        1\n",
       "1.200000         1\n",
       "3.280000         1\n",
       "18.990000        1\n",
       "1.960000         1\n",
       "15.460000        1\n",
       "11.990000        1\n",
       "2.560000         1\n",
       "4.800000         1\n",
       "19.900000        1\n",
       "74.990000        1\n",
       "4.590000         1\n",
       "200.000000       1\n",
       "4.850000         1\n",
       "379.990000       1\n",
       "3.900000         1\n",
       "1.040000         1\n",
       "389.990000       1\n",
       "28.990000        1\n",
       "4.290000         1\n",
       "19.400000        1\n",
       "400.000000       1\n",
       "299.990000       1\n",
       "154.990000       1\n",
       "1.590000         1\n",
       "46.990000        1\n",
       "1.610000         1\n",
       "37.990000        1\n",
       "Name: Price, dtype: int64"
      ]
     },
     "execution_count": 114,
     "metadata": {},
     "output_type": "execute_result"
    }
   ],
   "source": [
    "df.Price.value_counts()"
   ]
  },
  {
   "cell_type": "markdown",
   "metadata": {},
   "source": [
    "#### <b> When looking only at the revenue generating apps, ignoring the free apps - we can see that the most common price point is 0.99 with 142 apps. The 2.99 apps however generate far more total revenue with 119 apps."
   ]
  },
  {
   "cell_type": "markdown",
   "metadata": {},
   "source": [
    "---------------"
   ]
  },
  {
   "cell_type": "markdown",
   "metadata": {},
   "source": [
    "#### <b> Let's focus on the 2.99 apps. Are there certain categories of apps that are more popular than others? Let's find out."
   ]
  },
  {
   "cell_type": "code",
   "execution_count": 115,
   "metadata": {},
   "outputs": [
    {
     "data": {
      "text/plain": [
       "<sqlite3.Cursor at 0x12214160>"
      ]
     },
     "execution_count": 115,
     "metadata": {},
     "output_type": "execute_result"
    }
   ],
   "source": [
    "cursor.execute(\"SELECT\\\n",
    "               COUNT(CASE When Category = 'BOOKS_AND_REFERENCE' and Price='$2.99' then 1 ELSE NULL END) as 'books_and_reference',\\\n",
    "               COUNT(CASE When Category = 'BUSINESS' and Price='$2.99' then 1 ELSE NULL END) as 'business',\\\n",
    "               COUNT(CASE When Category = 'COMMUNICATION' and Price='$2.99' then 1 ELSE NULL END) as 'communication',\\\n",
    "               COUNT(CASE When Category = 'DATING' and Price='$2.99' then 1 ELSE NULL END) as 'dating',\\\n",
    "               COUNT(CASE When Category = 'ENTERTAINMENT' and Price='$2.99' then 1 ELSE NULL END) as 'entertainment',\\\n",
    "               COUNT(CASE When Category = 'FAMILY' and Price='$2.99' then 1 ELSE NULL END) as 'family',\\\n",
    "               COUNT(CASE When Category = 'FINANCE' and Price='$2.99' then 1 ELSE NULL END) as 'finance',\\\n",
    "               COUNT(CASE When Category = 'GAME' and Price='$2.99' then 1 ELSE NULL END) as 'game',\\\n",
    "               COUNT(CASE When Category = 'HEALTH_AND_FITNESS' and Price='$2.99' then 1 ELSE NULL END) as 'health_and_fitness',\\\n",
    "               COUNT(CASE When Category = 'LIFESTYLE' and Price='$2.99' then 1 ELSE NULL END) as 'lifestyle',\\\n",
    "               COUNT(CASE When Category = 'MAPS_AND_NAVIGATION' and Price='$2.99' then 1 ELSE NULL END) as 'maps_and_navigation',\\\n",
    "               COUNT(CASE When Category = 'MEDICAL' and Price='$2.99' then 1 ELSE NULL END) as 'medical',\\\n",
    "               COUNT(CASE When Category = 'NEWS_AND_MAGAZINES' and Price='$2.99' then 1 ELSE NULL END) as 'news_and_magazines',\\\n",
    "               COUNT(CASE When Category = 'PERSONALIZATION' and Price='$2.99' then 1 ELSE NULL END) as 'personalization',\\\n",
    "               COUNT(CASE When Category = 'PHOTOGRAPHY' and Price='$2.99' then 1 ELSE NULL END) as 'photography',\\\n",
    "               COUNT(CASE When Category = 'PRODUCTIVITY' and Price='$2.99' then 1 ELSE NULL END) as 'productivity',\\\n",
    "               COUNT(CASE When Category = 'SHOPPING' and Price='$2.99' then 1 ELSE NULL END) as 'shopping',\\\n",
    "               COUNT(CASE When Category = 'SPORTS' and Price='$2.99' then 1 ELSE NULL END) as 'sports',\\\n",
    "               COUNT(CASE When Category = 'TOOLS' and Price='$2.99' then 1 ELSE NULL END) as 'tools',\\\n",
    "               COUNT(CASE When Category = 'TRAVEL_AND_LOCAL' and Price='$2.99' then 1 ELSE NULL END) as 'travel_and_local',\\\n",
    "               COUNT(CASE When Category = 'WEATHER' and Price='$2.99' then 1 ELSE NULL END) as 'weather'\\\n",
    "               from googleplaystore\")"
   ]
  },
  {
   "cell_type": "code",
   "execution_count": 116,
   "metadata": {},
   "outputs": [],
   "source": [
    "category_count=cursor.fetchall()"
   ]
  },
  {
   "cell_type": "code",
   "execution_count": 117,
   "metadata": {},
   "outputs": [
    {
     "data": {
      "text/plain": [
       "[(2, 1, 4, 1, 1, 52, 2, 12, 4, 1, 1, 13, 1, 3, 4, 7, 1, 4, 11, 1, 3)]"
      ]
     },
     "execution_count": 117,
     "metadata": {},
     "output_type": "execute_result"
    }
   ],
   "source": [
    "category_count"
   ]
  },
  {
   "cell_type": "code",
   "execution_count": 118,
   "metadata": {},
   "outputs": [],
   "source": [
    "cat_dict= {'Books_and_Reference': 2, 'Business': 1, 'Communication': 4, 'Dating': 1, 'Entertainment': 1, 'Family': 52, 'Finance': 2, 'Game': 12, 'Health_and_fitness': 4, 'Lifestyle': 1, 'Maps_and_navigation': 1, 'Medical': 13, 'news_and_magazines': 1, 'Personalization': 3, 'Photography': 4, 'Productivity': 7, 'Shopping': 1, 'Sports': 4, 'Tools': 11, 'Travel_and_local': 1, 'Weather': 3}"
   ]
  },
  {
   "cell_type": "code",
   "execution_count": 119,
   "metadata": {},
   "outputs": [],
   "source": [
    "sorted_cat_dict = sorted(cat_dict.items(), key=operator.itemgetter(1))"
   ]
  },
  {
   "cell_type": "code",
   "execution_count": 120,
   "metadata": {},
   "outputs": [
    {
     "data": {
      "text/plain": [
       "[('Business', 1),\n",
       " ('Dating', 1),\n",
       " ('Entertainment', 1),\n",
       " ('Lifestyle', 1),\n",
       " ('Maps_and_navigation', 1),\n",
       " ('news_and_magazines', 1),\n",
       " ('Shopping', 1),\n",
       " ('Travel_and_local', 1),\n",
       " ('Books_and_Reference', 2),\n",
       " ('Finance', 2),\n",
       " ('Personalization', 3),\n",
       " ('Weather', 3),\n",
       " ('Communication', 4),\n",
       " ('Health_and_fitness', 4),\n",
       " ('Photography', 4),\n",
       " ('Sports', 4),\n",
       " ('Productivity', 7),\n",
       " ('Tools', 11),\n",
       " ('Game', 12),\n",
       " ('Medical', 13),\n",
       " ('Family', 52)]"
      ]
     },
     "execution_count": 120,
     "metadata": {},
     "output_type": "execute_result"
    }
   ],
   "source": [
    "sorted_cat_dict"
   ]
  },
  {
   "cell_type": "code",
   "execution_count": 121,
   "metadata": {},
   "outputs": [],
   "source": [
    "cat_dict=(['Business', 'Dating', 'Entertainment', 'Lifestyle', 'Maps_and_navigation', 'news_and_magazines', 'Shopping' ,'Travel_and_local', 'Books_and_Reference', 'Finance', 'Personalization', 'Weather', 'Communication', 'Health_and_fitness', 'Photography', 'Sports', 'Productivity', 'Tools', 'Game', 'Medical', 'Family'])"
   ]
  },
  {
   "cell_type": "code",
   "execution_count": 122,
   "metadata": {},
   "outputs": [],
   "source": [
    "cat_values=([1, 1, 1, 1, 1, 1, 1, 1, 2, 2, 3, 3, 4, 4, 4, 4, 7, 11, 12, 13, 52])"
   ]
  },
  {
   "cell_type": "code",
   "execution_count": 123,
   "metadata": {},
   "outputs": [
    {
     "data": {
      "text/plain": [
       "(0.0, 54.6)"
      ]
     },
     "execution_count": 123,
     "metadata": {},
     "output_type": "execute_result"
    },
    {
     "data": {
      "text/plain": [
       "<Figure size 432x288 with 0 Axes>"
      ]
     },
     "metadata": {},
     "output_type": "display_data"
    },
    {
     "data": {
      "image/png": "[encoded data removed]",
      "text/plain": [
       "<Figure size 720x432 with 1 Axes>"
      ]
     },
     "metadata": {
      "needs_background": "light"
     },
     "output_type": "display_data"
    }
   ],
   "source": [
    "plt.clf()\n",
    "\n",
    "cat_nums=[1, 1, 1, 1, 1, 1, 1, 1, 2, 2, 3, 3, 4, 4, 4, 4, 7, 11, 12, 13, 52]\n",
    "bars=['Business', 'Dating', 'Entertainment', 'Lifestyle', 'Maps_and_navigation', 'news_and_magazines', 'Shopping' ,'Travel_and_local', 'Books_and_Reference', 'Finance', 'Personalization', 'Weather', 'Communication', 'Health_and_fitness', 'Photography', 'Sports', 'Productivity', 'Tools', 'Game', 'Medical', 'Family']\n",
    "cat_pos=[2,4,6,8,10,12,14,16,18,20,22,24,26,28,30,32,34,36,38,40,42]\n",
    "\n",
    "f, axs = plt.subplots(1,1,figsize=(10,6))\n",
    "\n",
    "#ax.tick_params(axis=\"y\",direction=\"in\", pad=-22)\n",
    "axs.tick_params(axis=\"x\",direction=\"in\", pad=-130)\n",
    "\n",
    "\n",
    "\n",
    "plt.bar(cat_pos,cat_nums, color=\"lightblue\")\n",
    "plt.xticks(cat_pos, bars, rotation=90, fontsize=10)\n",
    "#plt.yticks(0, 32000000)\n",
    "plt.ylabel( \"Number of Apps\")\n",
    "plt.title(\"Categories at the $2.99 Price\")\n",
    "plt.savefig(\"categories_at_$2_99.jpg\")\n",
    "\n",
    "#plt.plot(range(0, 10))\n",
    "\n",
    "scale_factor = 1\n",
    "\n",
    "xmin, xmax = plt.xlim()\n",
    "ymin, ymax = plt.ylim()\n",
    "\n",
    "plt.xlim(xmin * scale_factor, xmax * scale_factor)\n",
    "plt.ylim(ymin * scale_factor, ymax * scale_factor)"
   ]
  },
  {
   "cell_type": "markdown",
   "metadata": {},
   "source": [
    "#### <b> Now, let's look at the breakdown of installation counts of all apps at the $2.99 price and apps in the Family category."
   ]
  },
  {
   "cell_type": "code",
   "execution_count": 124,
   "metadata": {},
   "outputs": [
    {
     "data": {
      "text/plain": [
       "10000.000000      25\n",
       "100000.000000     21\n",
       "1000.000000       15\n",
       "50000.000000      11\n",
       "5000.000000       10\n",
       "10.000000          7\n",
       "100.000000         7\n",
       "500.000000         6\n",
       "50.000000          5\n",
       "1000000.000000     5\n",
       "500000.000000      4\n",
       "1.000000           2\n",
       "0.000000           1\n",
       "Name: Installs_299, dtype: int64"
      ]
     },
     "execution_count": 124,
     "metadata": {},
     "output_type": "execute_result"
    }
   ],
   "source": [
    "df['Installs_299'].value_counts()"
   ]
  },
  {
   "cell_type": "code",
   "execution_count": 125,
   "metadata": {},
   "outputs": [],
   "source": [
    "df['Family_299']=df['Installs_299'].where(df.Category==\"FAMILY\")"
   ]
  },
  {
   "cell_type": "code",
   "execution_count": 126,
   "metadata": {},
   "outputs": [
    {
     "data": {
      "text/plain": [
       "10000.000000      9\n",
       "100000.000000     8\n",
       "1000.000000       7\n",
       "50000.000000      6\n",
       "5000.000000       4\n",
       "50.000000         3\n",
       "500000.000000     2\n",
       "500.000000        2\n",
       "100.000000        2\n",
       "1000000.000000    2\n",
       "0.000000          1\n",
       "1.000000          1\n",
       "10.000000         1\n",
       "Name: Family_299, dtype: int64"
      ]
     },
     "execution_count": 126,
     "metadata": {},
     "output_type": "execute_result"
    }
   ],
   "source": [
    "df.Family_299.value_counts()"
   ]
  },
  {
   "cell_type": "code",
   "execution_count": 127,
   "metadata": {},
   "outputs": [
    {
     "data": {
      "text/plain": [
       "4218361.0"
      ]
     },
     "execution_count": 127,
     "metadata": {},
     "output_type": "execute_result"
    }
   ],
   "source": [
    "np.sum(df.Family_299)"
   ]
  },
  {
   "cell_type": "code",
   "execution_count": 128,
   "metadata": {},
   "outputs": [
    {
     "data": {
      "text/plain": [
       "1000000.0"
      ]
     },
     "execution_count": 128,
     "metadata": {},
     "output_type": "execute_result"
    }
   ],
   "source": [
    "np.max(df.Family_299)"
   ]
  },
  {
   "cell_type": "code",
   "execution_count": 129,
   "metadata": {},
   "outputs": [
    {
     "data": {
      "text/plain": [
       "87882.52083333333"
      ]
     },
     "execution_count": 129,
     "metadata": {},
     "output_type": "execute_result"
    }
   ],
   "source": [
    "np.mean(df.Family_299)"
   ]
  },
  {
   "cell_type": "code",
   "execution_count": 130,
   "metadata": {},
   "outputs": [
    {
     "data": {
      "text/plain": [
       "2085      5000.000000\n",
       "2087       500.000000\n",
       "2154      1000.000000\n",
       "2170      1000.000000\n",
       "2175      5000.000000\n",
       "2177     10000.000000\n",
       "2242   1000000.000000\n",
       "3993     50000.000000\n",
       "4057    100000.000000\n",
       "4127        10.000000\n",
       "4395      5000.000000\n",
       "4397    100000.000000\n",
       "4405     10000.000000\n",
       "4413    100000.000000\n",
       "4813     50000.000000\n",
       "5411    100000.000000\n",
       "5412    100000.000000\n",
       "5465      1000.000000\n",
       "5500         1.000000\n",
       "5627    500000.000000\n",
       "5945         0.000000\n",
       "6346       100.000000\n",
       "6549      1000.000000\n",
       "6570      1000.000000\n",
       "7198     10000.000000\n",
       "7215      1000.000000\n",
       "7585    100000.000000\n",
       "7617     10000.000000\n",
       "7620     10000.000000\n",
       "7627      5000.000000\n",
       "7629       100.000000\n",
       "8176     10000.000000\n",
       "8191     10000.000000\n",
       "8723    100000.000000\n",
       "8777     10000.000000\n",
       "8778       500.000000\n",
       "8779     50000.000000\n",
       "8795     50000.000000\n",
       "8800    100000.000000\n",
       "8801     50000.000000\n",
       "8853        50.000000\n",
       "8860   1000000.000000\n",
       "9054        50.000000\n",
       "9065     10000.000000\n",
       "9334        50.000000\n",
       "9478    500000.000000\n",
       "9690     50000.000000\n",
       "9697      1000.000000\n",
       "Name: Family_299, dtype: float64"
      ]
     },
     "execution_count": 130,
     "metadata": {},
     "output_type": "execute_result"
    }
   ],
   "source": [
    "df['Family_299'].dropna()"
   ]
  },
  {
   "cell_type": "markdown",
   "metadata": {},
   "source": [
    "##### <b> <i> We can see that the mean number of installs of apps at 2.99 is around 100,000. The highest installation count for any app at 2.99 is one million - let's look at those apps."
   ]
  },
  {
   "cell_type": "code",
   "execution_count": 131,
   "metadata": {},
   "outputs": [
    {
     "data": {
      "text/plain": [
       "<sqlite3.Cursor at 0x12214160>"
      ]
     },
     "execution_count": 131,
     "metadata": {},
     "output_type": "execute_result"
    }
   ],
   "source": [
    "cursor.execute(\"select App, Genres, Rating, Installs from googleplaystore where Installs='100,000+' and Price='$2.99' and Category='FAMILY' group by Genres order by Genres;\")"
   ]
  },
  {
   "cell_type": "code",
   "execution_count": 132,
   "metadata": {},
   "outputs": [],
   "source": [
    "over_100000=cursor.fetchall()"
   ]
  },
  {
   "cell_type": "code",
   "execution_count": 133,
   "metadata": {},
   "outputs": [
    {
     "data": {
      "text/plain": [
       "[('The Hunt for the Lost Treasure', 'Adventure;Brain Games', 4.6, '100,000+'),\n",
       " ('Dr. Panda Restaurant 2', 'Educational;Pretend Play', 4.3, '100,000+'),\n",
       " ('Mind Games Pro', 'Puzzle;Brain Games', 4.6, '100,000+'),\n",
       " ('DRAGON QUEST', 'Role Playing', 4.2, '100,000+'),\n",
       " ('Attack the Light', 'Role Playing;Action & Adventure', 4.7, '100,000+'),\n",
       " ('CN Superstar Soccer: Goal!!!',\n",
       "  'Sports;Action & Adventure',\n",
       "  4.1,\n",
       "  '100,000+'),\n",
       " (\"Guns'n'Glory Premium\", 'Strategy', 4.4, '100,000+')]"
      ]
     },
     "execution_count": 133,
     "metadata": {},
     "output_type": "execute_result"
    }
   ],
   "source": [
    "over_100000\n",
    "# Apps priced at 2.99 with 100,00+ installs"
   ]
  },
  {
   "cell_type": "code",
   "execution_count": 134,
   "metadata": {},
   "outputs": [
    {
     "data": {
      "text/plain": [
       "<sqlite3.Cursor at 0x12214160>"
      ]
     },
     "execution_count": 134,
     "metadata": {},
     "output_type": "execute_result"
    }
   ],
   "source": [
    "cursor.execute(\"select App, Genres, Rating, Installs from googleplaystore where Installs='1,000,000+' and Price='$2.99' and Category='FAMILY' group by Genres order by Genres;\")"
   ]
  },
  {
   "cell_type": "code",
   "execution_count": 135,
   "metadata": {},
   "outputs": [],
   "source": [
    "over_1000000=cursor.fetchall()"
   ]
  },
  {
   "cell_type": "code",
   "execution_count": 136,
   "metadata": {},
   "outputs": [
    {
     "data": {
      "text/plain": [
       "[('Card Wars - Adventure Time', 'Card;Action & Adventure', 4.3, '1,000,000+'),\n",
       " ('Bloons TD 5', 'Strategy', 4.6, '1,000,000+')]"
      ]
     },
     "execution_count": 136,
     "metadata": {},
     "output_type": "execute_result"
    }
   ],
   "source": [
    "over_1000000\n",
    "# Apps priced at 2.99 with 1,000,000+ installs (most dowloaded Apps at 2.99)"
   ]
  },
  {
   "cell_type": "markdown",
   "metadata": {},
   "source": [
    "##### <b> Card Wars -Action and Adventure game, and Bloons TD 5 -a Strategy game are the post popular apps at the $2.99 price."
   ]
  },
  {
   "cell_type": "markdown",
   "metadata": {},
   "source": [
    "--------------"
   ]
  },
  {
   "cell_type": "markdown",
   "metadata": {},
   "source": [
    "#### <b> Now I will perform some additional analysis on the three highest revenue App price points: 0.99, 2.99 and 4.99."
   ]
  },
  {
   "cell_type": "code",
   "execution_count": 137,
   "metadata": {},
   "outputs": [],
   "source": [
    "df_099=df['Installs'].where(df.Price==0.99)\n",
    "df_299=df['Installs'].where(df.Price==2.99)\n",
    "df_499=df['Installs'].where(df.Price==4.99)"
   ]
  },
  {
   "cell_type": "code",
   "execution_count": 138,
   "metadata": {},
   "outputs": [
    {
     "data": {
      "text/plain": [
       "1000000.0"
      ]
     },
     "execution_count": 138,
     "metadata": {},
     "output_type": "execute_result"
    }
   ],
   "source": [
    "np.max(df_099)\n",
    "np.max(df_299)\n",
    "np.max(df_499)"
   ]
  },
  {
   "cell_type": "code",
   "execution_count": 139,
   "metadata": {},
   "outputs": [
    {
     "data": {
      "text/plain": [
       "129411.07746478873"
      ]
     },
     "execution_count": 139,
     "metadata": {},
     "output_type": "execute_result"
    }
   ],
   "source": [
    "np.mean(df_099)\n",
    "# mean num of installs priced at $.99"
   ]
  },
  {
   "cell_type": "code",
   "execution_count": 140,
   "metadata": {},
   "outputs": [
    {
     "data": {
      "text/plain": [
       "83773.29411764706"
      ]
     },
     "execution_count": 140,
     "metadata": {},
     "output_type": "execute_result"
    }
   ],
   "source": [
    "np.mean(df_299)\n",
    "# mean num of installs priced at $2.99"
   ]
  },
  {
   "cell_type": "code",
   "execution_count": 141,
   "metadata": {},
   "outputs": [
    {
     "data": {
      "text/plain": [
       "47568.82352941176"
      ]
     },
     "execution_count": 141,
     "metadata": {},
     "output_type": "execute_result"
    }
   ],
   "source": [
    "np.mean(df_499)\n",
    "# mean num of installs prices at $4.99"
   ]
  },
  {
   "cell_type": "markdown",
   "metadata": {},
   "source": [
    "#### <b> All three price points have the same maximum number of installs. The 0.99 price point has the highest avg installs and the highest total installs which makes sense, being the least expensive. Let's now check the mean dollar value of each price point."
   ]
  },
  {
   "cell_type": "code",
   "execution_count": 142,
   "metadata": {},
   "outputs": [
    {
     "data": {
      "text/plain": [
       "128116.96669014083"
      ]
     },
     "execution_count": 142,
     "metadata": {},
     "output_type": "execute_result"
    }
   ],
   "source": [
    "df_099_mean=np.mean(df_099)\n",
    "df_099_mean_install_val=df_099_mean*0.99\n",
    "df_099_mean_install_val\n",
    "# Average value of all installed apps priced at $0.99"
   ]
  },
  {
   "cell_type": "code",
   "execution_count": 143,
   "metadata": {},
   "outputs": [
    {
     "data": {
      "text/plain": [
       "250482.14941176472"
      ]
     },
     "execution_count": 143,
     "metadata": {},
     "output_type": "execute_result"
    }
   ],
   "source": [
    "df_299_mean=np.mean(df_299)\n",
    "df_299_mean_install_val=df_299_mean*2.99\n",
    "df_299_mean_install_val\n",
    "# Average value of all installed apps priced at $2.99"
   ]
  },
  {
   "cell_type": "code",
   "execution_count": 144,
   "metadata": {},
   "outputs": [
    {
     "data": {
      "text/plain": [
       "237368.4294117647"
      ]
     },
     "execution_count": 144,
     "metadata": {},
     "output_type": "execute_result"
    }
   ],
   "source": [
    "df_499_mean=np.mean(df_499)\n",
    "df_499_mean_install_val=df_499_mean*4.99\n",
    "df_499_mean_install_val\n",
    "# Average value of all installed apps priced at $4.99"
   ]
  },
  {
   "cell_type": "markdown",
   "metadata": {},
   "source": [
    "#### <b> Let's view the total number of installs at each of the three price points."
   ]
  },
  {
   "cell_type": "code",
   "execution_count": 145,
   "metadata": {},
   "outputs": [],
   "source": [
    "df_099_install_totals=np.sum(df['Installs'].where(df.Price==0.99))\n",
    "df_299_install_totals=np.sum(df['Installs'].where(df.Price==2.99))\n",
    "df_499_install_totals=np.sum(df['Installs'].where(df.Price==4.99))"
   ]
  },
  {
   "cell_type": "code",
   "execution_count": 146,
   "metadata": {},
   "outputs": [
    {
     "data": {
      "text/plain": [
       "18376373.0"
      ]
     },
     "execution_count": 146,
     "metadata": {},
     "output_type": "execute_result"
    }
   ],
   "source": [
    "df_099_install_totals"
   ]
  },
  {
   "cell_type": "code",
   "execution_count": 147,
   "metadata": {},
   "outputs": [
    {
     "data": {
      "text/plain": [
       "9969022.0"
      ]
     },
     "execution_count": 147,
     "metadata": {},
     "output_type": "execute_result"
    }
   ],
   "source": [
    "df_299_install_totals"
   ]
  },
  {
   "cell_type": "code",
   "execution_count": 148,
   "metadata": {},
   "outputs": [
    {
     "data": {
      "text/plain": [
       "3234680.0"
      ]
     },
     "execution_count": 148,
     "metadata": {},
     "output_type": "execute_result"
    }
   ],
   "source": [
    "df_499_install_totals"
   ]
  },
  {
   "cell_type": "markdown",
   "metadata": {},
   "source": [
    "#### <b> The mean install dollar value at 4.99 and 2.99 are very close. The total installs at 0.99 are much higher than 2.99 and 4.99, however the best overall revenue generator is at 2.99."
   ]
  },
  {
   "cell_type": "markdown",
   "metadata": {},
   "source": [
    "---------------"
   ]
  },
  {
   "cell_type": "markdown",
   "metadata": {},
   "source": [
    "#### <b> let's focus on the middle 50% or interquartile range (iqr). This will remove any outliers that may be skewing our data."
   ]
  },
  {
   "cell_type": "code",
   "execution_count": 149,
   "metadata": {},
   "outputs": [
    {
     "data": {
      "text/plain": [
       "array([nan, nan, nan, ..., nan, nan, nan])"
      ]
     },
     "execution_count": 149,
     "metadata": {},
     "output_type": "execute_result"
    }
   ],
   "source": [
    "df_099.to_numpy()"
   ]
  },
  {
   "cell_type": "code",
   "execution_count": 150,
   "metadata": {},
   "outputs": [],
   "source": [
    "df_099 = df_099[np.isfinite(df_099)]"
   ]
  },
  {
   "cell_type": "code",
   "execution_count": 151,
   "metadata": {},
   "outputs": [],
   "source": [
    "q3, q1 = np.percentile(df_099, [75 ,25])"
   ]
  },
  {
   "cell_type": "code",
   "execution_count": 152,
   "metadata": {},
   "outputs": [],
   "source": [
    "df_099_iqr = q3 - q1"
   ]
  },
  {
   "cell_type": "code",
   "execution_count": 153,
   "metadata": {},
   "outputs": [
    {
     "data": {
      "text/plain": [
       "4990.0"
      ]
     },
     "execution_count": 153,
     "metadata": {},
     "output_type": "execute_result"
    }
   ],
   "source": [
    "df_099_iqr"
   ]
  },
  {
   "cell_type": "markdown",
   "metadata": {},
   "source": [
    "##### <b> The iqr dollar value of installed apps at 0.99:   4990 * 0.99 = $4904.10"
   ]
  },
  {
   "cell_type": "code",
   "execution_count": 154,
   "metadata": {},
   "outputs": [
    {
     "data": {
      "text/plain": [
       "array([nan, nan, nan, ..., nan, nan, nan])"
      ]
     },
     "execution_count": 154,
     "metadata": {},
     "output_type": "execute_result"
    }
   ],
   "source": [
    "df_299.to_numpy()"
   ]
  },
  {
   "cell_type": "code",
   "execution_count": 155,
   "metadata": {},
   "outputs": [],
   "source": [
    "df_299 = df_299[np.isfinite(df_299)]"
   ]
  },
  {
   "cell_type": "code",
   "execution_count": 156,
   "metadata": {},
   "outputs": [],
   "source": [
    "q3, q1 = np.percentile(df_299, [75 ,25])"
   ]
  },
  {
   "cell_type": "code",
   "execution_count": 157,
   "metadata": {},
   "outputs": [],
   "source": [
    "df_299_iqr = q3 - q1"
   ]
  },
  {
   "cell_type": "code",
   "execution_count": 158,
   "metadata": {},
   "outputs": [
    {
     "data": {
      "text/plain": [
       "74000.0"
      ]
     },
     "execution_count": 158,
     "metadata": {},
     "output_type": "execute_result"
    }
   ],
   "source": [
    "df_299_iqr"
   ]
  },
  {
   "cell_type": "markdown",
   "metadata": {},
   "source": [
    "##### <b> The iqr dollar value of installed apps at 2.99: 74000 * 2.99 = 221,260"
   ]
  },
  {
   "cell_type": "code",
   "execution_count": 159,
   "metadata": {},
   "outputs": [
    {
     "data": {
      "text/plain": [
       "array([nan, nan, nan, ..., nan, nan, nan])"
      ]
     },
     "execution_count": 159,
     "metadata": {},
     "output_type": "execute_result"
    }
   ],
   "source": [
    "df_499.to_numpy()"
   ]
  },
  {
   "cell_type": "code",
   "execution_count": 160,
   "metadata": {},
   "outputs": [],
   "source": [
    "df_499 = df_499[np.isfinite(df_499)]"
   ]
  },
  {
   "cell_type": "code",
   "execution_count": 161,
   "metadata": {},
   "outputs": [],
   "source": [
    "q3, q1 = np.percentile(df_499, [75 ,25])"
   ]
  },
  {
   "cell_type": "code",
   "execution_count": 162,
   "metadata": {},
   "outputs": [],
   "source": [
    "df_499_iqr = q3 - q1"
   ]
  },
  {
   "cell_type": "code",
   "execution_count": 163,
   "metadata": {},
   "outputs": [
    {
     "data": {
      "text/plain": [
       "49000.0"
      ]
     },
     "execution_count": 163,
     "metadata": {},
     "output_type": "execute_result"
    }
   ],
   "source": [
    "df_499_iqr"
   ]
  },
  {
   "cell_type": "markdown",
   "metadata": {},
   "source": [
    "##### <b> The iqr dollar value of installed apps at 4.99: 49000 * 4.99 = 244,520"
   ]
  },
  {
   "cell_type": "markdown",
   "metadata": {},
   "source": [
    "#### <b> We can see that although the 2.99 price is by far the highest in total revenue, the 4.99 price point in our middle range (excluding outliers) actually generates the highest revenue."
   ]
  },
  {
   "cell_type": "markdown",
   "metadata": {},
   "source": [
    "-----------"
   ]
  },
  {
   "cell_type": "markdown",
   "metadata": {},
   "source": [
    "#### <b> Let us take a look at installations of our most popular categories at the 0.99, 2.99 and 4.99 price points. We will use Installs at 50,000+ and 100,000+ which fall between our middle range (iqr) for installs at those price points in our data."
   ]
  },
  {
   "cell_type": "code",
   "execution_count": 164,
   "metadata": {},
   "outputs": [
    {
     "data": {
      "text/plain": [
       "<sqlite3.Cursor at 0x12214160>"
      ]
     },
     "execution_count": 164,
     "metadata": {},
     "output_type": "execute_result"
    }
   ],
   "source": [
    "cursor.execute(\"select App, Category, Price from googleplaystore where Price = '$0.99' and Installs In (select Installs from googleplaystore where Installs ='50,000+' or Installs= '100,000+') Order by Category\")"
   ]
  },
  {
   "cell_type": "code",
   "execution_count": 165,
   "metadata": {},
   "outputs": [],
   "source": [
    "ninety_nine=cursor.fetchall()"
   ]
  },
  {
   "cell_type": "code",
   "execution_count": 166,
   "metadata": {},
   "outputs": [
    {
     "data": {
      "text/plain": [
       "[('Dots puzzle', 'FAMILY', '$0.99'),\n",
       " ('Ski Safari: Adventure Time', 'FAMILY', '$0.99'),\n",
       " ('ZOOKEEPER DX TouchEdition', 'FAMILY', '$0.99'),\n",
       " ('Deus Ex GO', 'FAMILY', '$0.99'),\n",
       " ('Mental Hospital V', 'GAME', '$0.99'),\n",
       " ('Mupen64Plus AE (N64 Emulator)', 'GAME', '$0.99'),\n",
       " ('Koi Live Wallpaper', 'PERSONALIZATION', '$0.99'),\n",
       " ('Device Info Ex Live Wallpaper', 'PERSONALIZATION', '$0.99')]"
      ]
     },
     "execution_count": 166,
     "metadata": {},
     "output_type": "execute_result"
    }
   ],
   "source": [
    "ninety_nine"
   ]
  },
  {
   "cell_type": "code",
   "execution_count": 167,
   "metadata": {},
   "outputs": [
    {
     "data": {
      "text/plain": [
       "<sqlite3.Cursor at 0x12214160>"
      ]
     },
     "execution_count": 167,
     "metadata": {},
     "output_type": "execute_result"
    }
   ],
   "source": [
    "cursor.execute(\"select count (*) from googleplaystore where Price = '$0.99' and Installs In (select Installs from googleplaystore where Installs ='50,000+' or Installs= '100,000+')\")"
   ]
  },
  {
   "cell_type": "code",
   "execution_count": 168,
   "metadata": {},
   "outputs": [],
   "source": [
    "count_ninety_nine=cursor.fetchall()"
   ]
  },
  {
   "cell_type": "code",
   "execution_count": 169,
   "metadata": {},
   "outputs": [
    {
     "data": {
      "text/plain": [
       "[(8,)]"
      ]
     },
     "execution_count": 169,
     "metadata": {},
     "output_type": "execute_result"
    }
   ],
   "source": [
    "count_ninety_nine"
   ]
  },
  {
   "cell_type": "code",
   "execution_count": 170,
   "metadata": {},
   "outputs": [],
   "source": [
    "ninety_nine_dict={'FAMILY': 4, 'GAME': 2, 'PERSONALIZATION': 1}"
   ]
  },
  {
   "cell_type": "code",
   "execution_count": 171,
   "metadata": {},
   "outputs": [
    {
     "data": {
      "text/plain": [
       "<sqlite3.Cursor at 0x12214160>"
      ]
     },
     "execution_count": 171,
     "metadata": {},
     "output_type": "execute_result"
    }
   ],
   "source": [
    "cursor.execute(\"select App, Category, Price from googleplaystore where Price = '$2.99' and Installs In (select Installs from googleplaystore where Installs ='50,000+' or Installs= '100,000+') Order by Category\")"
   ]
  },
  {
   "cell_type": "code",
   "execution_count": 172,
   "metadata": {},
   "outputs": [],
   "source": [
    "two_ninety_nine=cursor.fetchall()"
   ]
  },
  {
   "cell_type": "code",
   "execution_count": 173,
   "metadata": {},
   "outputs": [
    {
     "data": {
      "text/plain": [
       "[('Meme Generator', 'ENTERTAINMENT', '$2.99'),\n",
       " ('C4droid - C/C++ compiler & IDE', 'FAMILY', '$2.99'),\n",
       " ('Mind Games Pro', 'FAMILY', '$2.99'),\n",
       " (\"Guns'n'Glory Premium\", 'FAMILY', '$2.99'),\n",
       " (\"Guns'n'Glory WW2 Premium\", 'FAMILY', '$2.99'),\n",
       " ('Z Origins - (Z The Game)', 'FAMILY', '$2.99'),\n",
       " ('The Hunt for the Lost Treasure', 'FAMILY', '$2.99'),\n",
       " ('Attack the Light', 'FAMILY', '$2.99'),\n",
       " ('CN Superstar Soccer: Goal!!!', 'FAMILY', '$2.99'),\n",
       " ('DRAGON QUEST', 'FAMILY', '$2.99'),\n",
       " ('Dr. Panda Art Class', 'FAMILY', '$2.99'),\n",
       " ('Dr. Panda Hospital', 'FAMILY', '$2.99'),\n",
       " ('Dr. Panda Restaurant 2', 'FAMILY', '$2.99'),\n",
       " ('Dr. Panda Supermarket', 'FAMILY', '$2.99'),\n",
       " ('Out There Chronicles - Ep. 1', 'FAMILY', '$2.99'),\n",
       " ('My Budget Book', 'FINANCE', '$2.99'),\n",
       " ('The Game of Life', 'GAME', '$2.99'),\n",
       " (\"Five Nights at Freddy's: SL\", 'GAME', '$2.99'),\n",
       " (\"Five Nights at Freddy's 4\", 'GAME', '$2.99'),\n",
       " (\"Five Nights at Freddy's 3\", 'GAME', '$2.99'),\n",
       " ('Skip-Bo™', 'GAME', '$2.99'),\n",
       " ('Riptide GP: Renegade', 'GAME', '$2.99'),\n",
       " ('The Game of Life', 'GAME', '$2.99'),\n",
       " ('Sonic 4™ Episode I', 'GAME', '$2.99'),\n",
       " ('Solitaire+', 'GAME', '$2.99'),\n",
       " ('Pocket Yoga', 'HEALTH_AND_FITNESS', '$2.99'),\n",
       " ('Relax Melodies P: Sleep Sounds', 'HEALTH_AND_FITNESS', '$2.99'),\n",
       " ('Pocket Yoga', 'HEALTH_AND_FITNESS', '$2.99'),\n",
       " ('cronometer (ad free)', 'HEALTH_AND_FITNESS', '$2.99'),\n",
       " ('Muscle Trigger Point Anatomy', 'MEDICAL', '$2.99'),\n",
       " ('N Launcher Pro - Nougat 7.0', 'PERSONALIZATION', '$2.99'),\n",
       " ('Lapse It • Time Lapse • Pro', 'PHOTOGRAPHY', '$2.99'),\n",
       " ('Organizer', 'PRODUCTIVITY', '$2.99'),\n",
       " ('FlashLight HD LED Pro', 'TOOLS', '$2.99'),\n",
       " ('Advanced Download Manager Pro', 'TOOLS', '$2.99'),\n",
       " ('Weather & Radar Pro - Ad-Free', 'WEATHER', '$2.99')]"
      ]
     },
     "execution_count": 173,
     "metadata": {},
     "output_type": "execute_result"
    }
   ],
   "source": [
    "two_ninety_nine"
   ]
  },
  {
   "cell_type": "code",
   "execution_count": 174,
   "metadata": {},
   "outputs": [
    {
     "data": {
      "text/plain": [
       "<sqlite3.Cursor at 0x12214160>"
      ]
     },
     "execution_count": 174,
     "metadata": {},
     "output_type": "execute_result"
    }
   ],
   "source": [
    "cursor.execute(\"select count (*) from googleplaystore where Price = '$2.99' and Installs In (select Installs from googleplaystore where Installs ='50,000+' or Installs= '100,000+')\")"
   ]
  },
  {
   "cell_type": "code",
   "execution_count": 175,
   "metadata": {},
   "outputs": [],
   "source": [
    "count_two_ninety_nine=cursor.fetchall()"
   ]
  },
  {
   "cell_type": "code",
   "execution_count": 176,
   "metadata": {},
   "outputs": [
    {
     "data": {
      "text/plain": [
       "[(36,)]"
      ]
     },
     "execution_count": 176,
     "metadata": {},
     "output_type": "execute_result"
    }
   ],
   "source": [
    "count_two_ninety_nine"
   ]
  },
  {
   "cell_type": "code",
   "execution_count": 177,
   "metadata": {},
   "outputs": [],
   "source": [
    "two_ninety_nine_dict={'ENTERTAINMENT': 1, 'FAMILY': 14, 'FINANCE': 1, 'GAME': 9, 'HEALTH_AND_FITNESS': 4, 'MEDICAL': 1, 'PERSONALIZATION': 1, 'PHOTOGRAPHY': 1, 'PRODUCTIVITY': 1, 'TOOLS': 2, 'WEATHER': 1}"
   ]
  },
  {
   "cell_type": "code",
   "execution_count": 178,
   "metadata": {},
   "outputs": [
    {
     "data": {
      "text/plain": [
       "<sqlite3.Cursor at 0x12214160>"
      ]
     },
     "execution_count": 178,
     "metadata": {},
     "output_type": "execute_result"
    }
   ],
   "source": [
    "cursor.execute(\"select App, Category, Price from googleplaystore where Price = '$4.99' and Installs In (select Installs from googleplaystore where Installs ='50,000+' or Installs= '100,000+') Order by Category\")"
   ]
  },
  {
   "cell_type": "code",
   "execution_count": 179,
   "metadata": {},
   "outputs": [],
   "source": [
    "four_ninety_nine=cursor.fetchall()"
   ]
  },
  {
   "cell_type": "code",
   "execution_count": 180,
   "metadata": {},
   "outputs": [
    {
     "data": {
      "text/plain": [
       "[('TurboScan: scan documents and receipts in PDF', 'BUSINESS', '$4.99'),\n",
       " ('Tiny Scanner Pro: PDF Doc Scan', 'BUSINESS', '$4.99'),\n",
       " ('TurboScan: scan documents and receipts in PDF', 'BUSINESS', '$4.99'),\n",
       " ('Tiny Scanner Pro: PDF Doc Scan', 'BUSINESS', '$4.99'),\n",
       " ('My Talking Pet', 'ENTERTAINMENT', '$4.99'),\n",
       " ('F-Sim Space Shuttle', 'FAMILY', '$4.99'),\n",
       " ('Day R Premium', 'FAMILY', '$4.99'),\n",
       " ('LEGO ® Batman: Beyond Gotham', 'FAMILY', '$4.99'),\n",
       " ('Battleheart Legacy', 'FAMILY', '$4.99'),\n",
       " ('The House of Da Vinci', 'FAMILY', '$4.99'),\n",
       " ('LEGO Batman: DC Super Heroes', 'FAMILY', '$4.99'),\n",
       " ('Learn Italian with MosaLingua', 'FAMILY', '$4.99'),\n",
       " ('Paprika Recipe Manager', 'FOOD_AND_DRINK', '$4.99'),\n",
       " ('The Room: Old Sins', 'GAME', '$4.99'),\n",
       " ('The Escapists', 'GAME', '$4.99'),\n",
       " ('Farming Simulator 18', 'GAME', '$4.99'),\n",
       " ('Monument Valley 2', 'GAME', '$4.99'),\n",
       " (\"Don't Starve: Pocket Edition\", 'GAME', '$4.99'),\n",
       " ('Shadow Fight 2 Special Edition', 'GAME', '$4.99'),\n",
       " ('Adventure Time Game Wizard', 'GAME', '$4.99'),\n",
       " ('Baby Connect (activity log)', 'PARENTING', '$4.99'),\n",
       " ('CM Launcher 3D Pro💎', 'PERSONALIZATION', '$4.99'),\n",
       " ('Business Calendar Pro', 'PRODUCTIVITY', '$4.99')]"
      ]
     },
     "execution_count": 180,
     "metadata": {},
     "output_type": "execute_result"
    }
   ],
   "source": [
    "four_ninety_nine"
   ]
  },
  {
   "cell_type": "code",
   "execution_count": 181,
   "metadata": {},
   "outputs": [
    {
     "data": {
      "text/plain": [
       "<sqlite3.Cursor at 0x12214160>"
      ]
     },
     "execution_count": 181,
     "metadata": {},
     "output_type": "execute_result"
    }
   ],
   "source": [
    "cursor.execute(\"select App, Category, Installs Price from googleplaystore where Price = '$4.99' and Installs In (select Installs from googleplaystore where Installs ='50,000+' or Installs= '100,000+')order by Category\")"
   ]
  },
  {
   "cell_type": "code",
   "execution_count": 182,
   "metadata": {},
   "outputs": [],
   "source": [
    "count_four_ninety_nine=cursor.fetchall()"
   ]
  },
  {
   "cell_type": "code",
   "execution_count": 183,
   "metadata": {},
   "outputs": [
    {
     "data": {
      "text/plain": [
       "[('TurboScan: scan documents and receipts in PDF', 'BUSINESS', '100,000+'),\n",
       " ('Tiny Scanner Pro: PDF Doc Scan', 'BUSINESS', '100,000+'),\n",
       " ('TurboScan: scan documents and receipts in PDF', 'BUSINESS', '100,000+'),\n",
       " ('Tiny Scanner Pro: PDF Doc Scan', 'BUSINESS', '100,000+'),\n",
       " ('My Talking Pet', 'ENTERTAINMENT', '100,000+'),\n",
       " ('F-Sim Space Shuttle', 'FAMILY', '100,000+'),\n",
       " ('Day R Premium', 'FAMILY', '100,000+'),\n",
       " ('LEGO ® Batman: Beyond Gotham', 'FAMILY', '100,000+'),\n",
       " ('Battleheart Legacy', 'FAMILY', '50,000+'),\n",
       " ('The House of Da Vinci', 'FAMILY', '100,000+'),\n",
       " ('LEGO Batman: DC Super Heroes', 'FAMILY', '50,000+'),\n",
       " ('Learn Italian with MosaLingua', 'FAMILY', '50,000+'),\n",
       " ('Paprika Recipe Manager', 'FOOD_AND_DRINK', '50,000+'),\n",
       " ('The Room: Old Sins', 'GAME', '100,000+'),\n",
       " ('The Escapists', 'GAME', '100,000+'),\n",
       " ('Farming Simulator 18', 'GAME', '100,000+'),\n",
       " ('Monument Valley 2', 'GAME', '100,000+'),\n",
       " (\"Don't Starve: Pocket Edition\", 'GAME', '100,000+'),\n",
       " ('Shadow Fight 2 Special Edition', 'GAME', '50,000+'),\n",
       " ('Adventure Time Game Wizard', 'GAME', '50,000+'),\n",
       " ('Baby Connect (activity log)', 'PARENTING', '50,000+'),\n",
       " ('CM Launcher 3D Pro💎', 'PERSONALIZATION', '100,000+'),\n",
       " ('Business Calendar Pro', 'PRODUCTIVITY', '100,000+')]"
      ]
     },
     "execution_count": 183,
     "metadata": {},
     "output_type": "execute_result"
    }
   ],
   "source": [
    "count_four_ninety_nine"
   ]
  },
  {
   "cell_type": "code",
   "execution_count": 184,
   "metadata": {},
   "outputs": [],
   "source": [
    "four_ninety_nine_dict={'BUSINESS': 4, 'ENTERTAINMENT': 1, 'FAMILY': 7, 'FOOD_AND_DRINK': 1, 'GAME': 7, 'PARENTING': 1, 'PERSONALIZATION': 1, 'PRODUCTIVITY': 1}"
   ]
  },
  {
   "cell_type": "code",
   "execution_count": 185,
   "metadata": {},
   "outputs": [],
   "source": [
    "top_categories_dict={'FAMILY': 25, 'GAME': 18, 'BUSINESS': 4, 'HEALTH_AND_FITNESS': 4}"
   ]
  },
  {
   "cell_type": "code",
   "execution_count": 186,
   "metadata": {},
   "outputs": [
    {
     "data": {
      "text/plain": [
       "<Figure size 432x288 with 0 Axes>"
      ]
     },
     "metadata": {},
     "output_type": "display_data"
    },
    {
     "data": {
      "image/png": "[encoded data removed]",
      "text/plain": [
       "<Figure size 640x480 with 1 Axes>"
      ]
     },
     "metadata": {
      "needs_background": "light"
     },
     "output_type": "display_data"
    }
   ],
   "source": [
    "plt.clf()\n",
    "\n",
    "pos=[2,4,6,8]\n",
    "top_cats=[4, 4, 18, 25]\n",
    "cat_bars=(['BUSINESS', 'HEALTH & FIT', 'GAME', 'FAMILY'])\n",
    "\n",
    "\n",
    "figure(figsize=(8, 6), dpi=80)\n",
    "\n",
    "\n",
    "plt.bar(pos, top_cats)\n",
    "\n",
    "plt.xticks(pos, cat_bars, fontsize= 8, rotation=45)\n",
    "plt.yticks([0, 5, 10, 15, 20, 25, 30],[\"0\", \"5\", \"10\", \"15\", \"20\", \"25\", \"30\"])\n",
    "#plt.ylabel( \"App Installs\")\n",
    "plt.title(\"Top Install Categories of most popular price points -$0.99, $2.99, $4.99\")\n",
    "\n",
    "scale_factor = 1\n",
    "\n",
    "xmin, xmax = plt.xlim()\n",
    "ymin, ymax = plt.ylim()\n",
    "\n",
    "plt.xlim(xmin * scale_factor, xmax * scale_factor)\n",
    "plt.ylim(ymin * scale_factor, ymax * scale_factor)\n",
    "plt.savefig(\"top_installs_by_most_common_price_points.jpg\")"
   ]
  },
  {
   "cell_type": "markdown",
   "metadata": {},
   "source": [
    "---------"
   ]
  },
  {
   "cell_type": "markdown",
   "metadata": {},
   "source": [
    "#### <b> Finally, let's find the highest revenue producing apps at every price point to determine the overall most valuable Apps."
   ]
  },
  {
   "cell_type": "markdown",
   "metadata": {},
   "source": [
    "##### <b> <i> First, I will find the maximum number of installs at each price point; then I will run a sql query to determine the app names associated with those installs. Lastly, I will multiply each app price by the max number of installs and create a visulaization of the most valuable apps."
   ]
  },
  {
   "cell_type": "markdown",
   "metadata": {},
   "source": [
    "-------"
   ]
  },
  {
   "cell_type": "code",
   "execution_count": 187,
   "metadata": {},
   "outputs": [],
   "source": [
    "df_installs_099_max=np.max(df.Installs_099)"
   ]
  },
  {
   "cell_type": "code",
   "execution_count": 188,
   "metadata": {},
   "outputs": [
    {
     "data": {
      "text/plain": [
       "10000000.0"
      ]
     },
     "execution_count": 188,
     "metadata": {},
     "output_type": "execute_result"
    }
   ],
   "source": [
    "df_installs_099_max"
   ]
  },
  {
   "cell_type": "code",
   "execution_count": 189,
   "metadata": {},
   "outputs": [
    {
     "data": {
      "text/plain": [
       "<sqlite3.Cursor at 0x12214160>"
      ]
     },
     "execution_count": 189,
     "metadata": {},
     "output_type": "execute_result"
    }
   ],
   "source": [
    "cursor.execute(\"select App, Category from googleplaystore where Price='$0.99' and Installs='10,000,000+'\")"
   ]
  },
  {
   "cell_type": "code",
   "execution_count": 190,
   "metadata": {},
   "outputs": [],
   "source": [
    "zero=cursor.fetchall()"
   ]
  },
  {
   "cell_type": "code",
   "execution_count": 191,
   "metadata": {},
   "outputs": [
    {
     "data": {
      "text/plain": [
       "[('Hitman Sniper', 'GAME')]"
      ]
     },
     "execution_count": 191,
     "metadata": {},
     "output_type": "execute_result"
    }
   ],
   "source": [
    "zero"
   ]
  },
  {
   "cell_type": "code",
   "execution_count": 192,
   "metadata": {},
   "outputs": [],
   "source": [
    "#App - Hitman: 10,000,000 * $.99 = $9,900,000\n",
    "##Most valuable app overall"
   ]
  },
  {
   "cell_type": "code",
   "execution_count": 193,
   "metadata": {},
   "outputs": [],
   "source": [
    "df_installs_199_max=np.max(df.Installs_199)"
   ]
  },
  {
   "cell_type": "code",
   "execution_count": 194,
   "metadata": {},
   "outputs": [
    {
     "data": {
      "text/plain": [
       "1000000.0"
      ]
     },
     "execution_count": 194,
     "metadata": {},
     "output_type": "execute_result"
    }
   ],
   "source": [
    "df_installs_199_max"
   ]
  },
  {
   "cell_type": "code",
   "execution_count": 195,
   "metadata": {},
   "outputs": [
    {
     "data": {
      "text/plain": [
       "<sqlite3.Cursor at 0x12214160>"
      ]
     },
     "execution_count": 195,
     "metadata": {},
     "output_type": "execute_result"
    }
   ],
   "source": [
    "cursor.execute(\"select App, Category from googleplaystore where Price='$1.99' and Installs='1,000,000+'\")"
   ]
  },
  {
   "cell_type": "code",
   "execution_count": 196,
   "metadata": {},
   "outputs": [],
   "source": [
    "first=cursor.fetchall()"
   ]
  },
  {
   "cell_type": "code",
   "execution_count": 197,
   "metadata": {},
   "outputs": [
    {
     "data": {
      "text/plain": [
       "[('True Skate', 'SPORTS'), (\"Where's My Water?\", 'FAMILY')]"
      ]
     },
     "execution_count": 197,
     "metadata": {},
     "output_type": "execute_result"
    }
   ],
   "source": [
    "first"
   ]
  },
  {
   "cell_type": "code",
   "execution_count": 198,
   "metadata": {},
   "outputs": [],
   "source": [
    "#Apps - True Skate and Where's Muyu Water: 1,000,000 * 1.99 = $1,990,000"
   ]
  },
  {
   "cell_type": "code",
   "execution_count": 199,
   "metadata": {},
   "outputs": [],
   "source": [
    "df_installs_299_max=np.max(df.Installs_299)"
   ]
  },
  {
   "cell_type": "code",
   "execution_count": 200,
   "metadata": {},
   "outputs": [
    {
     "data": {
      "text/plain": [
       "1000000.0"
      ]
     },
     "execution_count": 200,
     "metadata": {},
     "output_type": "execute_result"
    }
   ],
   "source": [
    "df_installs_299_max"
   ]
  },
  {
   "cell_type": "code",
   "execution_count": 201,
   "metadata": {},
   "outputs": [
    {
     "data": {
      "text/plain": [
       "<sqlite3.Cursor at 0x12214160>"
      ]
     },
     "execution_count": 201,
     "metadata": {},
     "output_type": "execute_result"
    }
   ],
   "source": [
    "cursor.execute(\"select App, Category from googleplaystore where Price='$2.99' and Installs='1,000,000+'\")"
   ]
  },
  {
   "cell_type": "code",
   "execution_count": 202,
   "metadata": {},
   "outputs": [],
   "source": [
    "second=cursor.fetchall()"
   ]
  },
  {
   "cell_type": "code",
   "execution_count": 203,
   "metadata": {},
   "outputs": [
    {
     "data": {
      "text/plain": [
       "[('Card Wars - Adventure Time', 'FAMILY'),\n",
       " (\"Five Nights at Freddy's\", 'GAME'),\n",
       " ('Threema', 'COMMUNICATION'),\n",
       " ('Bloons TD 5', 'FAMILY'),\n",
       " ('Tasker', 'TOOLS')]"
      ]
     },
     "execution_count": 203,
     "metadata": {},
     "output_type": "execute_result"
    }
   ],
   "source": [
    "second"
   ]
  },
  {
   "cell_type": "code",
   "execution_count": 204,
   "metadata": {},
   "outputs": [],
   "source": [
    "#Apps - Card Wars, Five Nights at Freddy's, Threema, Bloons TD 5, Tasker: 1,000,000 * 2.99 = $2,990,000"
   ]
  },
  {
   "cell_type": "code",
   "execution_count": 205,
   "metadata": {},
   "outputs": [],
   "source": [
    "df_installs_399_max=np.max(df.Installs_399)"
   ]
  },
  {
   "cell_type": "code",
   "execution_count": 206,
   "metadata": {},
   "outputs": [
    {
     "data": {
      "text/plain": [
       "100000.0"
      ]
     },
     "execution_count": 206,
     "metadata": {},
     "output_type": "execute_result"
    }
   ],
   "source": [
    "df_installs_399_max"
   ]
  },
  {
   "cell_type": "code",
   "execution_count": 207,
   "metadata": {},
   "outputs": [
    {
     "data": {
      "text/plain": [
       "<sqlite3.Cursor at 0x12214160>"
      ]
     },
     "execution_count": 207,
     "metadata": {},
     "output_type": "execute_result"
    }
   ],
   "source": [
    "cursor.execute(\"select App, Category from googleplaystore where Price='$3.99' and Installs='100,000+'\")"
   ]
  },
  {
   "cell_type": "code",
   "execution_count": 208,
   "metadata": {},
   "outputs": [],
   "source": [
    "third=cursor.fetchall()"
   ]
  },
  {
   "cell_type": "code",
   "execution_count": 209,
   "metadata": {},
   "outputs": [
    {
     "data": {
      "text/plain": [
       "[('Puffin Browser Pro', 'COMMUNICATION'),\n",
       " ('Toca Life: Hospital', 'EDUCATION'),\n",
       " ('Toca Builders', 'FAMILY'),\n",
       " ('Battery HD Pro', 'TOOLS'),\n",
       " ('Teeny Titans - Teen Titans Go!', 'FAMILY'),\n",
       " ('Weather Forecast Pro', 'WEATHER'),\n",
       " ('Superbrothers Sword & Sworcery', 'GAME'),\n",
       " ('ExDialer PRO Key', 'COMMUNICATION')]"
      ]
     },
     "execution_count": 209,
     "metadata": {},
     "output_type": "execute_result"
    }
   ],
   "source": [
    "third"
   ]
  },
  {
   "cell_type": "code",
   "execution_count": 210,
   "metadata": {},
   "outputs": [],
   "source": [
    "##Above $3.99 Apps: 100,000 * 3.99 = $399,000"
   ]
  },
  {
   "cell_type": "code",
   "execution_count": 211,
   "metadata": {},
   "outputs": [],
   "source": [
    "df_installs_499_max=np.max(df.Installs_499)"
   ]
  },
  {
   "cell_type": "code",
   "execution_count": 212,
   "metadata": {},
   "outputs": [
    {
     "data": {
      "text/plain": [
       "1000000.0"
      ]
     },
     "execution_count": 212,
     "metadata": {},
     "output_type": "execute_result"
    }
   ],
   "source": [
    "df_installs_499_max"
   ]
  },
  {
   "cell_type": "code",
   "execution_count": 213,
   "metadata": {},
   "outputs": [
    {
     "data": {
      "text/plain": [
       "<sqlite3.Cursor at 0x12214160>"
      ]
     },
     "execution_count": 213,
     "metadata": {},
     "output_type": "execute_result"
    }
   ],
   "source": [
    "cursor.execute(\"select App, Category from googleplaystore where Price='$4.99' and Installs='100,000+'\")"
   ]
  },
  {
   "cell_type": "code",
   "execution_count": 214,
   "metadata": {},
   "outputs": [],
   "source": [
    "fourth=cursor.fetchall()"
   ]
  },
  {
   "cell_type": "code",
   "execution_count": 215,
   "metadata": {},
   "outputs": [
    {
     "data": {
      "text/plain": [
       "[('TurboScan: scan documents and receipts in PDF', 'BUSINESS'),\n",
       " ('Tiny Scanner Pro: PDF Doc Scan', 'BUSINESS'),\n",
       " ('TurboScan: scan documents and receipts in PDF', 'BUSINESS'),\n",
       " ('Tiny Scanner Pro: PDF Doc Scan', 'BUSINESS'),\n",
       " ('My Talking Pet', 'ENTERTAINMENT'),\n",
       " ('The Room: Old Sins', 'GAME'),\n",
       " ('The Escapists', 'GAME'),\n",
       " ('Farming Simulator 18', 'GAME'),\n",
       " ('Monument Valley 2', 'GAME'),\n",
       " ('F-Sim Space Shuttle', 'FAMILY'),\n",
       " ('Day R Premium', 'FAMILY'),\n",
       " (\"Don't Starve: Pocket Edition\", 'GAME'),\n",
       " ('Business Calendar Pro', 'PRODUCTIVITY'),\n",
       " ('LEGO ® Batman: Beyond Gotham', 'FAMILY'),\n",
       " ('CM Launcher 3D Pro💎', 'PERSONALIZATION'),\n",
       " ('The House of Da Vinci', 'FAMILY')]"
      ]
     },
     "execution_count": 215,
     "metadata": {},
     "output_type": "execute_result"
    }
   ],
   "source": [
    "fourth"
   ]
  },
  {
   "cell_type": "code",
   "execution_count": 216,
   "metadata": {},
   "outputs": [],
   "source": [
    "# Above $4.99 Apps: 100,000 * 4.99 = $499,000"
   ]
  },
  {
   "cell_type": "code",
   "execution_count": 217,
   "metadata": {},
   "outputs": [],
   "source": [
    "df_installs_599_max=np.max(df.Installs_599)"
   ]
  },
  {
   "cell_type": "code",
   "execution_count": 218,
   "metadata": {},
   "outputs": [
    {
     "data": {
      "text/plain": [
       "1000000.0"
      ]
     },
     "execution_count": 218,
     "metadata": {},
     "output_type": "execute_result"
    }
   ],
   "source": [
    "df_installs_599_max"
   ]
  },
  {
   "cell_type": "code",
   "execution_count": 219,
   "metadata": {},
   "outputs": [
    {
     "data": {
      "text/plain": [
       "<sqlite3.Cursor at 0x12214160>"
      ]
     },
     "execution_count": 219,
     "metadata": {},
     "output_type": "execute_result"
    }
   ],
   "source": [
    "cursor.execute(\"select App, Category from googleplaystore where Price='$5.99' and Installs='1,000,000+'\")"
   ]
  },
  {
   "cell_type": "code",
   "execution_count": 220,
   "metadata": {},
   "outputs": [],
   "source": [
    "fifth=cursor.fetchall()"
   ]
  },
  {
   "cell_type": "code",
   "execution_count": 221,
   "metadata": {},
   "outputs": [
    {
     "data": {
      "text/plain": [
       "[('Facetune - For Free', 'PHOTOGRAPHY'),\n",
       " ('Facetune - For Free', 'PHOTOGRAPHY'),\n",
       " ('Facetune - For Free', 'PHOTOGRAPHY'),\n",
       " ('Sleep as Android Unlock', 'LIFESTYLE')]"
      ]
     },
     "execution_count": 221,
     "metadata": {},
     "output_type": "execute_result"
    }
   ],
   "source": [
    "fifth"
   ]
  },
  {
   "cell_type": "code",
   "execution_count": 222,
   "metadata": {},
   "outputs": [],
   "source": [
    "#Above $5.99 Apps: 1,000,000 * 5.99 = 5,990,000"
   ]
  },
  {
   "cell_type": "code",
   "execution_count": 223,
   "metadata": {},
   "outputs": [],
   "source": [
    "df_installs_699_max=np.max(df.Installs_699)"
   ]
  },
  {
   "cell_type": "code",
   "execution_count": 224,
   "metadata": {},
   "outputs": [
    {
     "data": {
      "text/plain": [
       "1000000.0"
      ]
     },
     "execution_count": 224,
     "metadata": {},
     "output_type": "execute_result"
    }
   ],
   "source": [
    "df_installs_699_max"
   ]
  },
  {
   "cell_type": "code",
   "execution_count": 225,
   "metadata": {},
   "outputs": [
    {
     "data": {
      "text/plain": [
       "<sqlite3.Cursor at 0x12214160>"
      ]
     },
     "execution_count": 225,
     "metadata": {},
     "output_type": "execute_result"
    }
   ],
   "source": [
    "cursor.execute(\"select App, Category from googleplaystore where Price='$6.99' and Installs='1,000,000+'\")"
   ]
  },
  {
   "cell_type": "code",
   "execution_count": 226,
   "metadata": {},
   "outputs": [],
   "source": [
    "sixth=cursor.fetchall()"
   ]
  },
  {
   "cell_type": "code",
   "execution_count": 227,
   "metadata": {},
   "outputs": [
    {
     "data": {
      "text/plain": [
       "[('Grand Theft Auto: San Andreas', 'GAME')]"
      ]
     },
     "execution_count": 227,
     "metadata": {},
     "output_type": "execute_result"
    }
   ],
   "source": [
    "sixth"
   ]
  },
  {
   "cell_type": "code",
   "execution_count": 228,
   "metadata": {},
   "outputs": [],
   "source": [
    "##App - Grand Theft Auto: San Andreas: 1,000,000 * 6.99 = $6,990,000"
   ]
  },
  {
   "cell_type": "code",
   "execution_count": 229,
   "metadata": {},
   "outputs": [],
   "source": [
    "df_installs_799_max=np.max(df.Installs_799)"
   ]
  },
  {
   "cell_type": "code",
   "execution_count": 230,
   "metadata": {},
   "outputs": [
    {
     "data": {
      "text/plain": [
       "100000.0"
      ]
     },
     "execution_count": 230,
     "metadata": {},
     "output_type": "execute_result"
    }
   ],
   "source": [
    "df_installs_799_max"
   ]
  },
  {
   "cell_type": "code",
   "execution_count": 231,
   "metadata": {},
   "outputs": [
    {
     "data": {
      "text/plain": [
       "<sqlite3.Cursor at 0x12214160>"
      ]
     },
     "execution_count": 231,
     "metadata": {},
     "output_type": "execute_result"
    }
   ],
   "source": [
    "cursor.execute(\"select App, Category from googleplaystore where Price='$7.99' and Installs='100,000+'\")"
   ]
  },
  {
   "cell_type": "code",
   "execution_count": 232,
   "metadata": {},
   "outputs": [],
   "source": [
    "seventh=cursor.fetchall()"
   ]
  },
  {
   "cell_type": "code",
   "execution_count": 233,
   "metadata": {},
   "outputs": [
    {
     "data": {
      "text/plain": [
       "[('FINAL FANTASY V', 'FAMILY')]"
      ]
     },
     "execution_count": 233,
     "metadata": {},
     "output_type": "execute_result"
    }
   ],
   "source": [
    "seventh"
   ]
  },
  {
   "cell_type": "code",
   "execution_count": 234,
   "metadata": {},
   "outputs": [],
   "source": [
    "#App - Final Fantasy V: 100,000 * 7.99 = 799,000"
   ]
  },
  {
   "cell_type": "code",
   "execution_count": 235,
   "metadata": {},
   "outputs": [],
   "source": [
    "df_installs_899_max=np.max(df.Installs_899)"
   ]
  },
  {
   "cell_type": "code",
   "execution_count": 236,
   "metadata": {},
   "outputs": [
    {
     "data": {
      "text/plain": [
       "100000.0"
      ]
     },
     "execution_count": 236,
     "metadata": {},
     "output_type": "execute_result"
    }
   ],
   "source": [
    "df_installs_899_max"
   ]
  },
  {
   "cell_type": "code",
   "execution_count": 237,
   "metadata": {},
   "outputs": [
    {
     "data": {
      "text/plain": [
       "<sqlite3.Cursor at 0x12214160>"
      ]
     },
     "execution_count": 237,
     "metadata": {},
     "output_type": "execute_result"
    }
   ],
   "source": [
    "cursor.execute(\"select App, Category from googleplaystore where Price='$8.99' and Installs='100,000+'\")"
   ]
  },
  {
   "cell_type": "code",
   "execution_count": 238,
   "metadata": {},
   "outputs": [],
   "source": [
    "eigth=cursor.fetchall()"
   ]
  },
  {
   "cell_type": "code",
   "execution_count": 239,
   "metadata": {},
   "outputs": [
    {
     "data": {
      "text/plain": [
       "[('Maps & GPS Navigation OsmAnd+', 'TRAVEL_AND_LOCAL'),\n",
       " ('Football Manager Mobile 2018', 'SPORTS')]"
      ]
     },
     "execution_count": 239,
     "metadata": {},
     "output_type": "execute_result"
    }
   ],
   "source": [
    "eigth"
   ]
  },
  {
   "cell_type": "code",
   "execution_count": 240,
   "metadata": {},
   "outputs": [],
   "source": [
    "#Above $8.99 Apps: 100,000 * 8.99 = $899,000"
   ]
  },
  {
   "cell_type": "code",
   "execution_count": 241,
   "metadata": {},
   "outputs": [],
   "source": [
    "df_installs_999_max=np.max(df.Installs_999)"
   ]
  },
  {
   "cell_type": "code",
   "execution_count": 242,
   "metadata": {},
   "outputs": [
    {
     "data": {
      "text/plain": [
       "100000.0"
      ]
     },
     "execution_count": 242,
     "metadata": {},
     "output_type": "execute_result"
    }
   ],
   "source": [
    "df_installs_999_max"
   ]
  },
  {
   "cell_type": "code",
   "execution_count": 243,
   "metadata": {},
   "outputs": [
    {
     "data": {
      "text/plain": [
       "<sqlite3.Cursor at 0x12214160>"
      ]
     },
     "execution_count": 243,
     "metadata": {},
     "output_type": "execute_result"
    }
   ],
   "source": [
    "cursor.execute(\"select App, Category from googleplaystore where Price='$9.99' and Installs='100,000+'\")"
   ]
  },
  {
   "cell_type": "code",
   "execution_count": 244,
   "metadata": {},
   "outputs": [],
   "source": [
    "ninth=cursor.fetchall()"
   ]
  },
  {
   "cell_type": "code",
   "execution_count": 245,
   "metadata": {},
   "outputs": [
    {
     "data": {
      "text/plain": [
       "[('Star Wars ™: DIRTY', 'GAME'),\n",
       " (\"Baldur's Gate: Enhanced Edition\", 'FAMILY'),\n",
       " ('CHRONO TRIGGER (Upgrade Ver.)', 'FAMILY'),\n",
       " ('XCOM®: Enemy Within', 'FAMILY')]"
      ]
     },
     "execution_count": 245,
     "metadata": {},
     "output_type": "execute_result"
    }
   ],
   "source": [
    "ninth"
   ]
  },
  {
   "cell_type": "code",
   "execution_count": 246,
   "metadata": {},
   "outputs": [],
   "source": [
    "#Above $9.99 Appps: 100,000 * 9.99 = $999,000"
   ]
  },
  {
   "cell_type": "code",
   "execution_count": 247,
   "metadata": {},
   "outputs": [],
   "source": [
    "df_installs_1099_max=np.max(df.Installs_1099)"
   ]
  },
  {
   "cell_type": "code",
   "execution_count": 248,
   "metadata": {},
   "outputs": [
    {
     "data": {
      "text/plain": [
       "1000.0"
      ]
     },
     "execution_count": 248,
     "metadata": {},
     "output_type": "execute_result"
    }
   ],
   "source": [
    "df_installs_1099_max"
   ]
  },
  {
   "cell_type": "code",
   "execution_count": 249,
   "metadata": {},
   "outputs": [
    {
     "data": {
      "text/plain": [
       "<sqlite3.Cursor at 0x12214160>"
      ]
     },
     "execution_count": 249,
     "metadata": {},
     "output_type": "execute_result"
    }
   ],
   "source": [
    "cursor.execute(\"select App, Category from googleplaystore where Price='$10.99' and Installs='1,000+'\")"
   ]
  },
  {
   "cell_type": "code",
   "execution_count": 250,
   "metadata": {},
   "outputs": [],
   "source": [
    "tenth=cursor.fetchall()"
   ]
  },
  {
   "cell_type": "code",
   "execution_count": 251,
   "metadata": {},
   "outputs": [
    {
     "data": {
      "text/plain": [
       "[('CCHT PREP', 'MEDICAL'), ('RPG ブレイジング ソウルズ アクセレイト', 'FAMILY')]"
      ]
     },
     "execution_count": 251,
     "metadata": {},
     "output_type": "execute_result"
    }
   ],
   "source": [
    "tenth"
   ]
  },
  {
   "cell_type": "code",
   "execution_count": 252,
   "metadata": {},
   "outputs": [],
   "source": [
    "#Above $10.99 Apps: 1,000 * 10.99 = $10,990"
   ]
  },
  {
   "cell_type": "code",
   "execution_count": 253,
   "metadata": {},
   "outputs": [],
   "source": [
    "df_installs_1199_max=np.max(df.Installs_1199)"
   ]
  },
  {
   "cell_type": "code",
   "execution_count": 254,
   "metadata": {},
   "outputs": [
    {
     "data": {
      "text/plain": [
       "100000.0"
      ]
     },
     "execution_count": 254,
     "metadata": {},
     "output_type": "execute_result"
    }
   ],
   "source": [
    "df_installs_1199_max"
   ]
  },
  {
   "cell_type": "code",
   "execution_count": 255,
   "metadata": {},
   "outputs": [
    {
     "data": {
      "text/plain": [
       "<sqlite3.Cursor at 0x12214160>"
      ]
     },
     "execution_count": 255,
     "metadata": {},
     "output_type": "execute_result"
    }
   ],
   "source": [
    "cursor.execute(\"select App, Category from googleplaystore where Price='$11.99' and Installs='100,000+'\")"
   ]
  },
  {
   "cell_type": "code",
   "execution_count": 256,
   "metadata": {},
   "outputs": [],
   "source": [
    "eleventh=cursor.fetchall()"
   ]
  },
  {
   "cell_type": "code",
   "execution_count": 257,
   "metadata": {},
   "outputs": [
    {
     "data": {
      "text/plain": [
       "[('BackCountry Navigator TOPO GPS PRO', 'MAPS_AND_NAVIGATION')]"
      ]
     },
     "execution_count": 257,
     "metadata": {},
     "output_type": "execute_result"
    }
   ],
   "source": [
    "eleventh"
   ]
  },
  {
   "cell_type": "code",
   "execution_count": 258,
   "metadata": {},
   "outputs": [],
   "source": [
    "#Above $11.99 Apps: 100,000 * 11.99 = 1,199,000"
   ]
  },
  {
   "cell_type": "code",
   "execution_count": 259,
   "metadata": {},
   "outputs": [],
   "source": [
    "df_installs_1299_max=np.max(df.Installs_1299)"
   ]
  },
  {
   "cell_type": "code",
   "execution_count": 260,
   "metadata": {},
   "outputs": [
    {
     "data": {
      "text/plain": [
       "10000.0"
      ]
     },
     "execution_count": 260,
     "metadata": {},
     "output_type": "execute_result"
    }
   ],
   "source": [
    "df_installs_1299_max"
   ]
  },
  {
   "cell_type": "code",
   "execution_count": 261,
   "metadata": {},
   "outputs": [
    {
     "data": {
      "text/plain": [
       "<sqlite3.Cursor at 0x12214160>"
      ]
     },
     "execution_count": 261,
     "metadata": {},
     "output_type": "execute_result"
    }
   ],
   "source": [
    "cursor.execute(\"select App, Category from googleplaystore where Price='$12.99' and Installs='10,000+'\")"
   ]
  },
  {
   "cell_type": "code",
   "execution_count": 262,
   "metadata": {},
   "outputs": [],
   "source": [
    "twelfth=cursor.fetchall()"
   ]
  },
  {
   "cell_type": "code",
   "execution_count": 263,
   "metadata": {},
   "outputs": [
    {
     "data": {
      "text/plain": [
       "[('Carrier Landings Pro', 'FAMILY')]"
      ]
     },
     "execution_count": 263,
     "metadata": {},
     "output_type": "execute_result"
    }
   ],
   "source": [
    "twelfth"
   ]
  },
  {
   "cell_type": "code",
   "execution_count": 264,
   "metadata": {},
   "outputs": [],
   "source": [
    "#App - Carrier Landings Pro: 10,000 * 12.99 = $129,900"
   ]
  },
  {
   "cell_type": "code",
   "execution_count": 265,
   "metadata": {},
   "outputs": [],
   "source": [
    "df_installs_1399_max=np.max(df.Installs_1399)"
   ]
  },
  {
   "cell_type": "code",
   "execution_count": 266,
   "metadata": {},
   "outputs": [
    {
     "data": {
      "text/plain": [
       "100000.0"
      ]
     },
     "execution_count": 266,
     "metadata": {},
     "output_type": "execute_result"
    }
   ],
   "source": [
    "df_installs_1399_max"
   ]
  },
  {
   "cell_type": "code",
   "execution_count": 267,
   "metadata": {},
   "outputs": [
    {
     "data": {
      "text/plain": [
       "<sqlite3.Cursor at 0x12214160>"
      ]
     },
     "execution_count": 267,
     "metadata": {},
     "output_type": "execute_result"
    }
   ],
   "source": [
    "cursor.execute(\"select App, Category from googleplaystore where Price='$13.99' and Installs='100,000+'\")"
   ]
  },
  {
   "cell_type": "code",
   "execution_count": 268,
   "metadata": {},
   "outputs": [],
   "source": [
    "thirteenth=cursor.fetchall()"
   ]
  },
  {
   "cell_type": "code",
   "execution_count": 269,
   "metadata": {},
   "outputs": [
    {
     "data": {
      "text/plain": [
       "[('FINAL FANTASY DIMENSIONS', 'FAMILY')]"
      ]
     },
     "execution_count": 269,
     "metadata": {},
     "output_type": "execute_result"
    }
   ],
   "source": [
    "thirteenth"
   ]
  },
  {
   "cell_type": "code",
   "execution_count": 270,
   "metadata": {},
   "outputs": [],
   "source": [
    "#App - Final Fantasy Dimensions: 100,000 * 13.99 = $1,399,000"
   ]
  },
  {
   "cell_type": "code",
   "execution_count": 271,
   "metadata": {},
   "outputs": [],
   "source": [
    "df_installs_1499_max=np.max(df.Installs_1499)"
   ]
  },
  {
   "cell_type": "code",
   "execution_count": 272,
   "metadata": {},
   "outputs": [
    {
     "data": {
      "text/plain": [
       "100000.0"
      ]
     },
     "execution_count": 272,
     "metadata": {},
     "output_type": "execute_result"
    }
   ],
   "source": [
    "df_installs_1499_max"
   ]
  },
  {
   "cell_type": "code",
   "execution_count": 273,
   "metadata": {},
   "outputs": [
    {
     "data": {
      "text/plain": [
       "<sqlite3.Cursor at 0x12214160>"
      ]
     },
     "execution_count": 273,
     "metadata": {},
     "output_type": "execute_result"
    }
   ],
   "source": [
    "cursor.execute(\"select App, Category from googleplaystore where Price='$14.99' and Installs='100,000+'\")"
   ]
  },
  {
   "cell_type": "code",
   "execution_count": 274,
   "metadata": {},
   "outputs": [],
   "source": [
    "fourteenth=cursor.fetchall()"
   ]
  },
  {
   "cell_type": "code",
   "execution_count": 275,
   "metadata": {},
   "outputs": [
    {
     "data": {
      "text/plain": [
       "[('DRAGON QUEST VI', 'FAMILY')]"
      ]
     },
     "execution_count": 275,
     "metadata": {},
     "output_type": "execute_result"
    }
   ],
   "source": [
    "fourteenth"
   ]
  },
  {
   "cell_type": "code",
   "execution_count": 276,
   "metadata": {},
   "outputs": [],
   "source": [
    "#App - Dragon Quest VI: 100,000 * 14.99 = $1,499,000"
   ]
  },
  {
   "cell_type": "code",
   "execution_count": 277,
   "metadata": {},
   "outputs": [],
   "source": [
    "df_installs_1599_max=np.max(df.Installs_1599)"
   ]
  },
  {
   "cell_type": "code",
   "execution_count": 278,
   "metadata": {},
   "outputs": [
    {
     "data": {
      "text/plain": [
       "500.0"
      ]
     },
     "execution_count": 278,
     "metadata": {},
     "output_type": "execute_result"
    }
   ],
   "source": [
    "df_installs_1599_max"
   ]
  },
  {
   "cell_type": "code",
   "execution_count": 279,
   "metadata": {},
   "outputs": [
    {
     "data": {
      "text/plain": [
       "<sqlite3.Cursor at 0x12214160>"
      ]
     },
     "execution_count": 279,
     "metadata": {},
     "output_type": "execute_result"
    }
   ],
   "source": [
    "cursor.execute(\"select App, Category from googleplaystore where Price='$15.99' and Installs='500+'\")"
   ]
  },
  {
   "cell_type": "code",
   "execution_count": 280,
   "metadata": {},
   "outputs": [],
   "source": [
    "fifteenth=cursor.fetchall()"
   ]
  },
  {
   "cell_type": "code",
   "execution_count": 281,
   "metadata": {},
   "outputs": [
    {
     "data": {
      "text/plain": [
       "[('Navi Radiography Pro', 'MEDICAL')]"
      ]
     },
     "execution_count": 281,
     "metadata": {},
     "output_type": "execute_result"
    }
   ],
   "source": [
    "fifteenth"
   ]
  },
  {
   "cell_type": "code",
   "execution_count": 282,
   "metadata": {},
   "outputs": [],
   "source": [
    "#App - Navi Radiography Pro: 500 * 15.99 = $7,995"
   ]
  },
  {
   "cell_type": "code",
   "execution_count": 283,
   "metadata": {},
   "outputs": [],
   "source": [
    "df_installs_1699_max=np.max(df.Installs_1699)"
   ]
  },
  {
   "cell_type": "code",
   "execution_count": 284,
   "metadata": {},
   "outputs": [
    {
     "data": {
      "text/plain": [
       "10000.0"
      ]
     },
     "execution_count": 284,
     "metadata": {},
     "output_type": "execute_result"
    }
   ],
   "source": [
    "df_installs_1699_max"
   ]
  },
  {
   "cell_type": "code",
   "execution_count": 285,
   "metadata": {},
   "outputs": [
    {
     "data": {
      "text/plain": [
       "<sqlite3.Cursor at 0x12214160>"
      ]
     },
     "execution_count": 285,
     "metadata": {},
     "output_type": "execute_result"
    }
   ],
   "source": [
    "cursor.execute(\"select App, Category from googleplaystore where Price='$16.99' and Installs='10,000+'\")"
   ]
  },
  {
   "cell_type": "code",
   "execution_count": 286,
   "metadata": {},
   "outputs": [],
   "source": [
    "sixteenth=cursor.fetchall()"
   ]
  },
  {
   "cell_type": "code",
   "execution_count": 287,
   "metadata": {},
   "outputs": [
    {
     "data": {
      "text/plain": [
       "[('Trine 2: Complete Story', 'GAME')]"
      ]
     },
     "execution_count": 287,
     "metadata": {},
     "output_type": "execute_result"
    }
   ],
   "source": [
    "sixteenth"
   ]
  },
  {
   "cell_type": "code",
   "execution_count": 288,
   "metadata": {},
   "outputs": [],
   "source": [
    "#App - Trine 2: Complete Story: 10,000 * 16.99 = $169,900"
   ]
  },
  {
   "cell_type": "code",
   "execution_count": 289,
   "metadata": {},
   "outputs": [],
   "source": [
    "df_installs_1799_max=np.max(df.Installs_1799)"
   ]
  },
  {
   "cell_type": "code",
   "execution_count": 290,
   "metadata": {},
   "outputs": [
    {
     "data": {
      "text/plain": [
       "10000.0"
      ]
     },
     "execution_count": 290,
     "metadata": {},
     "output_type": "execute_result"
    }
   ],
   "source": [
    "df_installs_1799_max"
   ]
  },
  {
   "cell_type": "code",
   "execution_count": 291,
   "metadata": {},
   "outputs": [
    {
     "data": {
      "text/plain": [
       "<sqlite3.Cursor at 0x12214160>"
      ]
     },
     "execution_count": 291,
     "metadata": {},
     "output_type": "execute_result"
    }
   ],
   "source": [
    "cursor.execute(\"select App, Category from googleplaystore where Price='$17.99' and Installs='10,000+'\")"
   ]
  },
  {
   "cell_type": "code",
   "execution_count": 292,
   "metadata": {},
   "outputs": [],
   "source": [
    "seventeenth=cursor.fetchall()"
   ]
  },
  {
   "cell_type": "code",
   "execution_count": 293,
   "metadata": {},
   "outputs": [
    {
     "data": {
      "text/plain": [
       "[('The World Ends With You', 'GAME')]"
      ]
     },
     "execution_count": 293,
     "metadata": {},
     "output_type": "execute_result"
    }
   ],
   "source": [
    "seventeenth"
   ]
  },
  {
   "cell_type": "code",
   "execution_count": 294,
   "metadata": {},
   "outputs": [],
   "source": [
    "#App - The World Ends With You: 10,000 * 17.99 = $179,900"
   ]
  },
  {
   "cell_type": "code",
   "execution_count": 295,
   "metadata": {},
   "outputs": [],
   "source": [
    "df_installs_1899_max=np.max(df.Installs_1899)"
   ]
  },
  {
   "cell_type": "code",
   "execution_count": 296,
   "metadata": {},
   "outputs": [
    {
     "data": {
      "text/plain": [
       "10000.0"
      ]
     },
     "execution_count": 296,
     "metadata": {},
     "output_type": "execute_result"
    }
   ],
   "source": [
    "df_installs_1899_max"
   ]
  },
  {
   "cell_type": "code",
   "execution_count": 297,
   "metadata": {},
   "outputs": [
    {
     "data": {
      "text/plain": [
       "<sqlite3.Cursor at 0x12214160>"
      ]
     },
     "execution_count": 297,
     "metadata": {},
     "output_type": "execute_result"
    }
   ],
   "source": [
    "cursor.execute(\"select App, Category from googleplaystore where Price='$18.99' and Installs='10,000+'\")"
   ]
  },
  {
   "cell_type": "code",
   "execution_count": 298,
   "metadata": {},
   "outputs": [],
   "source": [
    "eighteenth=cursor.fetchall()"
   ]
  },
  {
   "cell_type": "code",
   "execution_count": 299,
   "metadata": {},
   "outputs": [
    {
     "data": {
      "text/plain": [
       "[('I am Rich Premium Plus', 'FINANCE')]"
      ]
     },
     "execution_count": 299,
     "metadata": {},
     "output_type": "execute_result"
    }
   ],
   "source": [
    "eighteenth"
   ]
  },
  {
   "cell_type": "code",
   "execution_count": 300,
   "metadata": {},
   "outputs": [],
   "source": [
    "#App - I am Rich Premium Plus: 10,000 * 18.99 = $189,900"
   ]
  },
  {
   "cell_type": "code",
   "execution_count": 301,
   "metadata": {},
   "outputs": [],
   "source": [
    "df_installs_1999_max=np.max(df.Installs_1999)"
   ]
  },
  {
   "cell_type": "code",
   "execution_count": 302,
   "metadata": {},
   "outputs": [
    {
     "data": {
      "text/plain": [
       "50000.0"
      ]
     },
     "execution_count": 302,
     "metadata": {},
     "output_type": "execute_result"
    }
   ],
   "source": [
    "df_installs_1999_max"
   ]
  },
  {
   "cell_type": "code",
   "execution_count": 303,
   "metadata": {},
   "outputs": [
    {
     "data": {
      "text/plain": [
       "<sqlite3.Cursor at 0x12214160>"
      ]
     },
     "execution_count": 303,
     "metadata": {},
     "output_type": "execute_result"
    }
   ],
   "source": [
    "cursor.execute(\"select App, Category from googleplaystore where Price='$19.99' and Installs='50,000+'\")"
   ]
  },
  {
   "cell_type": "code",
   "execution_count": 304,
   "metadata": {},
   "outputs": [],
   "source": [
    "nineteenth=cursor.fetchall()"
   ]
  },
  {
   "cell_type": "code",
   "execution_count": 305,
   "metadata": {},
   "outputs": [
    {
     "data": {
      "text/plain": [
       "[('DRAGON QUEST VIII', 'FAMILY')]"
      ]
     },
     "execution_count": 305,
     "metadata": {},
     "output_type": "execute_result"
    }
   ],
   "source": [
    "nineteenth"
   ]
  },
  {
   "cell_type": "code",
   "execution_count": 306,
   "metadata": {},
   "outputs": [],
   "source": [
    "#App - Dragon Quest VIII: 50,000 * 19.99 = $999,500"
   ]
  },
  {
   "cell_type": "code",
   "execution_count": 307,
   "metadata": {},
   "outputs": [],
   "source": [
    "cat_dict= {'Books_and_Reference': 2, 'Business': 1, 'Communication': 4, 'Dating': 1, 'Entertainment': 1, 'Family': 52, 'Finance': 2, 'Game': 12, 'Health_and_fitness': 4, 'Lifestyle': 1, 'Maps_and_navigation': 1, 'Medical': 13, 'news_and_magazines': 1, 'Personalization': 3, 'Photography': 4, 'Productivity': 7, 'Shopping': 1, 'Sports': 4, 'Tools': 11, 'Travel_and_local': 1, 'Weather': 3}"
   ]
  },
  {
   "cell_type": "code",
   "execution_count": 308,
   "metadata": {},
   "outputs": [],
   "source": [
    "app_dict={'Hitman Sniper - Game - $0.99': 9900000, 'Grand Theft Auto: San Andreas - GAME - $6.99': 6990000, 'Facetune - For Free - PHOTOGRAPHY - $5.99': 5990000, 'Sleep as Android Unlock - LIFESTYLE - $5.99': 5990000, 'Card Wars - Adventure Time - FAMILY - $2.99': 2990000, 'Five Nights at Freddy -GAME - $2.99': 2990000, 'Threema - COMMUNICATION - $2.99': 2990000, 'Bloons TD 5 - FAMILY - $2.99': 2990000, 'Tasker - TOOLS - $2.99': 2990000, 'True Skate - SPORTS - $1.99': 1990000, 'Wheres My Water? - FAMILY - $1.99': 1990000}"
   ]
  },
  {
   "cell_type": "code",
   "execution_count": 309,
   "metadata": {},
   "outputs": [
    {
     "data": {
      "text/plain": [
       "dict_keys(['Hitman Sniper - Game - $0.99', 'Grand Theft Auto: San Andreas - GAME - $6.99', 'Facetune - For Free - PHOTOGRAPHY - $5.99', 'Sleep as Android Unlock - LIFESTYLE - $5.99', 'Card Wars - Adventure Time - FAMILY - $2.99', 'Five Nights at Freddy -GAME - $2.99', 'Threema - COMMUNICATION - $2.99', 'Bloons TD 5 - FAMILY - $2.99', 'Tasker - TOOLS - $2.99', 'True Skate - SPORTS - $1.99', 'Wheres My Water? - FAMILY - $1.99'])"
      ]
     },
     "execution_count": 309,
     "metadata": {},
     "output_type": "execute_result"
    }
   ],
   "source": [
    "app_dict.keys()"
   ]
  },
  {
   "cell_type": "code",
   "execution_count": 310,
   "metadata": {},
   "outputs": [
    {
     "data": {
      "text/plain": [
       "dict_values([9900000, 6990000, 5990000, 5990000, 2990000, 2990000, 2990000, 2990000, 2990000, 1990000, 1990000])"
      ]
     },
     "execution_count": 310,
     "metadata": {},
     "output_type": "execute_result"
    }
   ],
   "source": [
    "app_dict.values()"
   ]
  },
  {
   "cell_type": "code",
   "execution_count": 311,
   "metadata": {},
   "outputs": [],
   "source": [
    "##Top 11 Apps: $0.99 = 9900000, $5.99 = 5,990,000 (2), $6.99 =  $6,990,000, $2.99 = 2,990,000 (5), $1.99 = 1,990,000 (2) =total of 11"
   ]
  },
  {
   "cell_type": "code",
   "execution_count": 312,
   "metadata": {},
   "outputs": [
    {
     "data": {
      "text/plain": [
       "<Figure size 432x288 with 0 Axes>"
      ]
     },
     "metadata": {},
     "output_type": "display_data"
    },
    {
     "data": {
      "image/png": "[encoded data removed]",
      "text/plain": [
       "<Figure size 720x432 with 1 Axes>"
      ]
     },
     "metadata": {
      "needs_background": "light"
     },
     "output_type": "display_data"
    }
   ],
   "source": [
    "plt.clf()\n",
    "\n",
    "cat_pos=[2,4,6,8,10,12,14,16,18,20,22]\n",
    "top_apps=[9900000, 6990000, 5990000, 5990000, 2990000, 2990000, 2990000, 2990000, 2990000, 1990000, 1990000]\n",
    "bars= ['Hitman Sniper - Game - $0.99', 'Grand Theft Auto: San Andreas - GAME  -$6.99', 'Facetune - For Free - PHOTOGRAPHY - $5.99', 'Sleep as Android Unlock - LIFESTYLE - $5.99', 'Card Wars - Adventure Time - FAMILY - $2.99', 'Five Nights at Freddy -GAME - $2.99', 'Threema - COMMUNICATION - $2.99', 'Bloons TD 5 - FAMILY - $2.99', 'Tasker - TOOLS - $2.99', 'True Skate - SPORTS - $1.99', 'Wheres My Water? - FAMILY - $1.99']\n",
    "\n",
    "\n",
    "f, axs = plt.subplots(1,1,figsize=(10,6))\n",
    "\n",
    "#ax.tick_params(axis=\"y\",direction=\"in\", pad=-22)\n",
    "axs.tick_params(axis=\"x\",direction=\"in\", pad=-213)\n",
    "\n",
    "plt.bar(cat_pos,top_apps, color='lightblue')\n",
    "plt.xticks(cat_pos, bars, rotation=90, fontsize=8.8)\n",
    "plt.yticks([2000000, 4000000, 6000000, 8000000, 10000000], ['$2,000,000', '$4,000,000', '$6,000,000', '$8,000,000', '$10,000,000'], rotation =45)      \n",
    "plt.xlabel( \"(App name - Category - App price)\")\n",
    "plt.title(\"Top 11 Google Play Store Apps by Revenue\")\n",
    "plt.savefig(\"top_11_apps_by_revenue.jpg\")\n",
    "\n",
    "\n",
    "scale_factor = 1\n",
    "\n",
    "xmin, xmax = plt.xlim()\n",
    "ymin, ymax = plt.ylim()\n",
    "\n"
   ]
  },
  {
   "cell_type": "markdown",
   "metadata": {},
   "source": [
    "#### <b> <i> The winner is Hitman Sniper - the highest revenue generating app in the Google Play store at the time of this project."
   ]
  },
  {
   "cell_type": "markdown",
   "metadata": {},
   "source": [
    "#### <b> Thanks for checking out my project! Please feel free to add any comments or questions. "
   ]
  }
 ],
 "metadata": {
  "kernelspec": {
   "display_name": "Python 3",
   "language": "python",
   "name": "python3"
  },
  "language_info": {
   "codemirror_mode": {
    "name": "ipython",
    "version": 3
   },
   "file_extension": ".py",
   "mimetype": "text/x-python",
   "name": "python",
   "nbconvert_exporter": "python",
   "pygments_lexer": "ipython3",
   "version": "3.8.2"
  }
 },
 "nbformat": 4,
 "nbformat_minor": 4
}
